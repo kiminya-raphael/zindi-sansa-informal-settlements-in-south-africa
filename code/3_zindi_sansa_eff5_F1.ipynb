{
  "nbformat": 4,
  "nbformat_minor": 0,
  "metadata": {
    "colab": {
      "name": "3_zindi_sansa_eff5_F1.ipynb",
      "provenance": [],
      "collapsed_sections": [],
      "toc_visible": true
    },
    "kernelspec": {
      "name": "python3",
      "display_name": "Python 3"
    },
    "accelerator": "GPU",
    "widgets": {
      "application/vnd.jupyter.widget-state+json": {
        "58de275073d544ffa1005381036ff3b5": {
          "model_module": "@jupyter-widgets/controls",
          "model_name": "HBoxModel",
          "state": {
            "_view_name": "HBoxView",
            "_dom_classes": [],
            "_model_name": "HBoxModel",
            "_view_module": "@jupyter-widgets/controls",
            "_model_module_version": "1.5.0",
            "_view_count": null,
            "_view_module_version": "1.5.0",
            "box_style": "",
            "layout": "IPY_MODEL_ef5166d5cb2d46a0821ccf694b19ccd0",
            "_model_module": "@jupyter-widgets/controls",
            "children": [
              "IPY_MODEL_28367748bc1a4f5e97fdbb5a9c785b3e",
              "IPY_MODEL_5bbd2fb2bd6542b38a01e1e51af19cb5"
            ]
          }
        },
        "ef5166d5cb2d46a0821ccf694b19ccd0": {
          "model_module": "@jupyter-widgets/base",
          "model_name": "LayoutModel",
          "state": {
            "_view_name": "LayoutView",
            "grid_template_rows": null,
            "right": null,
            "justify_content": null,
            "_view_module": "@jupyter-widgets/base",
            "overflow": null,
            "_model_module_version": "1.2.0",
            "_view_count": null,
            "flex_flow": null,
            "width": null,
            "min_width": null,
            "border": null,
            "align_items": null,
            "bottom": null,
            "_model_module": "@jupyter-widgets/base",
            "top": null,
            "grid_column": null,
            "overflow_y": null,
            "overflow_x": null,
            "grid_auto_flow": null,
            "grid_area": null,
            "grid_template_columns": null,
            "flex": null,
            "_model_name": "LayoutModel",
            "justify_items": null,
            "grid_row": null,
            "max_height": null,
            "align_content": null,
            "visibility": null,
            "align_self": null,
            "height": null,
            "min_height": null,
            "padding": null,
            "grid_auto_rows": null,
            "grid_gap": null,
            "max_width": null,
            "order": null,
            "_view_module_version": "1.2.0",
            "grid_template_areas": null,
            "object_position": null,
            "object_fit": null,
            "grid_auto_columns": null,
            "margin": null,
            "display": null,
            "left": null
          }
        },
        "28367748bc1a4f5e97fdbb5a9c785b3e": {
          "model_module": "@jupyter-widgets/controls",
          "model_name": "FloatProgressModel",
          "state": {
            "_view_name": "ProgressView",
            "style": "IPY_MODEL_5977bbd32111493aa4686a8851823455",
            "_dom_classes": [],
            "description": "100%",
            "_model_name": "FloatProgressModel",
            "bar_style": "success",
            "max": 122410125,
            "_view_module": "@jupyter-widgets/controls",
            "_model_module_version": "1.5.0",
            "value": 122410125,
            "_view_count": null,
            "_view_module_version": "1.5.0",
            "orientation": "horizontal",
            "min": 0,
            "description_tooltip": null,
            "_model_module": "@jupyter-widgets/controls",
            "layout": "IPY_MODEL_598d6eb8cfe84a39b2a18595f416af5b"
          }
        },
        "5bbd2fb2bd6542b38a01e1e51af19cb5": {
          "model_module": "@jupyter-widgets/controls",
          "model_name": "HTMLModel",
          "state": {
            "_view_name": "HTMLView",
            "style": "IPY_MODEL_02680ddc353e479a96f66f7641e3323a",
            "_dom_classes": [],
            "description": "",
            "_model_name": "HTMLModel",
            "placeholder": "​",
            "_view_module": "@jupyter-widgets/controls",
            "_model_module_version": "1.5.0",
            "value": " 117M/117M [00:09&lt;00:00, 13.2MB/s]",
            "_view_count": null,
            "_view_module_version": "1.5.0",
            "description_tooltip": null,
            "_model_module": "@jupyter-widgets/controls",
            "layout": "IPY_MODEL_e21137a6fa68450498ec663eac0f0d98"
          }
        },
        "5977bbd32111493aa4686a8851823455": {
          "model_module": "@jupyter-widgets/controls",
          "model_name": "ProgressStyleModel",
          "state": {
            "_view_name": "StyleView",
            "_model_name": "ProgressStyleModel",
            "description_width": "initial",
            "_view_module": "@jupyter-widgets/base",
            "_model_module_version": "1.5.0",
            "_view_count": null,
            "_view_module_version": "1.2.0",
            "bar_color": null,
            "_model_module": "@jupyter-widgets/controls"
          }
        },
        "598d6eb8cfe84a39b2a18595f416af5b": {
          "model_module": "@jupyter-widgets/base",
          "model_name": "LayoutModel",
          "state": {
            "_view_name": "LayoutView",
            "grid_template_rows": null,
            "right": null,
            "justify_content": null,
            "_view_module": "@jupyter-widgets/base",
            "overflow": null,
            "_model_module_version": "1.2.0",
            "_view_count": null,
            "flex_flow": null,
            "width": null,
            "min_width": null,
            "border": null,
            "align_items": null,
            "bottom": null,
            "_model_module": "@jupyter-widgets/base",
            "top": null,
            "grid_column": null,
            "overflow_y": null,
            "overflow_x": null,
            "grid_auto_flow": null,
            "grid_area": null,
            "grid_template_columns": null,
            "flex": null,
            "_model_name": "LayoutModel",
            "justify_items": null,
            "grid_row": null,
            "max_height": null,
            "align_content": null,
            "visibility": null,
            "align_self": null,
            "height": null,
            "min_height": null,
            "padding": null,
            "grid_auto_rows": null,
            "grid_gap": null,
            "max_width": null,
            "order": null,
            "_view_module_version": "1.2.0",
            "grid_template_areas": null,
            "object_position": null,
            "object_fit": null,
            "grid_auto_columns": null,
            "margin": null,
            "display": null,
            "left": null
          }
        },
        "02680ddc353e479a96f66f7641e3323a": {
          "model_module": "@jupyter-widgets/controls",
          "model_name": "DescriptionStyleModel",
          "state": {
            "_view_name": "StyleView",
            "_model_name": "DescriptionStyleModel",
            "description_width": "",
            "_view_module": "@jupyter-widgets/base",
            "_model_module_version": "1.5.0",
            "_view_count": null,
            "_view_module_version": "1.2.0",
            "_model_module": "@jupyter-widgets/controls"
          }
        },
        "e21137a6fa68450498ec663eac0f0d98": {
          "model_module": "@jupyter-widgets/base",
          "model_name": "LayoutModel",
          "state": {
            "_view_name": "LayoutView",
            "grid_template_rows": null,
            "right": null,
            "justify_content": null,
            "_view_module": "@jupyter-widgets/base",
            "overflow": null,
            "_model_module_version": "1.2.0",
            "_view_count": null,
            "flex_flow": null,
            "width": null,
            "min_width": null,
            "border": null,
            "align_items": null,
            "bottom": null,
            "_model_module": "@jupyter-widgets/base",
            "top": null,
            "grid_column": null,
            "overflow_y": null,
            "overflow_x": null,
            "grid_auto_flow": null,
            "grid_area": null,
            "grid_template_columns": null,
            "flex": null,
            "_model_name": "LayoutModel",
            "justify_items": null,
            "grid_row": null,
            "max_height": null,
            "align_content": null,
            "visibility": null,
            "align_self": null,
            "height": null,
            "min_height": null,
            "padding": null,
            "grid_auto_rows": null,
            "grid_gap": null,
            "max_width": null,
            "order": null,
            "_view_module_version": "1.2.0",
            "grid_template_areas": null,
            "object_position": null,
            "object_fit": null,
            "grid_auto_columns": null,
            "margin": null,
            "display": null,
            "left": null
          }
        }
      }
    }
  },
  "cells": [
    {
      "cell_type": "code",
      "metadata": {
        "id": "ePkK-dWy_Gt9",
        "colab_type": "code",
        "colab": {}
      },
      "source": [
        "import pandas as pd, numpy as np\n",
        "import sys, os, cv2, random, shutil,time                                                                                                                                                      \n",
        "import PIL\n",
        "from fastai.vision import *\n",
        "from fastai.metrics import error_rate\n",
        "from fastai.callbacks import SaveModelCallback\n",
        "from sklearn.model_selection import KFold,StratifiedKFold\n",
        "\n",
        "import sklearn.metrics as skmetrics"
      ],
      "execution_count": 0,
      "outputs": []
    },
    {
      "cell_type": "code",
      "metadata": {
        "id": "-mmldGbpw7Px",
        "colab_type": "code",
        "outputId": "6ae6d37f-e024-4b55-e64e-e7b3f7d89a78",
        "colab": {
          "base_uri": "https://localhost:8080/",
          "height": 17
        }
      },
      "source": [
        "from fastai_extensions import *\n",
        "from efficientnet_pytorch import EfficientNet\n",
        "import albumentations as A"
      ],
      "execution_count": 0,
      "outputs": [
        {
          "output_type": "display_data",
          "data": {
            "text/html": [
              "<style>.container { width:100% !important; }</style>"
            ],
            "text/plain": [
              "<IPython.core.display.HTML object>"
            ]
          },
          "metadata": {
            "tags": []
          }
        },
        {
          "output_type": "display_data",
          "data": {
            "text/html": [
              "<style>.container { width:100% !important; }</style>"
            ],
            "text/plain": [
              "<IPython.core.display.HTML object>"
            ]
          },
          "metadata": {
            "tags": []
          }
        },
        {
          "output_type": "display_data",
          "data": {
            "text/html": [
              "<style>.container { width:100% !important; }</style>"
            ],
            "text/plain": [
              "<IPython.core.display.HTML object>"
            ]
          },
          "metadata": {
            "tags": []
          }
        }
      ]
    },
    {
      "cell_type": "code",
      "metadata": {
        "id": "d9bSWztExHOa",
        "colab_type": "code",
        "colab": {}
      },
      "source": [
        "RANDOM_STATE = 41\n",
        "def fix_seed(seed=0):\n",
        "    random.seed(seed)\n",
        "    os.environ['PYTHONHASHSEED'] = str(seed)\n",
        "    np.random.seed(seed)\n",
        "    torch.manual_seed(seed)\n",
        "    torch.cuda.manual_seed(seed)\n",
        "    torch.backends.cudnn.deterministic = True\n",
        "fix_seed(RANDOM_STATE)"
      ],
      "execution_count": 0,
      "outputs": []
    },
    {
      "cell_type": "code",
      "metadata": {
        "id": "pU9RNSHjTmfJ",
        "colab_type": "code",
        "colab": {}
      },
      "source": [
        "DATA_DIR = 'data/'\n",
        "df_train = pd.read_csv(f'{DATA_DIR}/Train.csv')\n",
        "df_test = pd.read_csv(f'{DATA_DIR}/Test.csv')\n",
        "MODEL_DIR = '../../models' #save models to current directory"
      ],
      "execution_count": 0,
      "outputs": []
    },
    {
      "cell_type": "code",
      "metadata": {
        "id": "v9QFbdThWKQw",
        "colab_type": "code",
        "colab": {}
      },
      "source": [
        "df_train['path']  = df_train['ID']+'.jpg'\n",
        "df_train['Label']  = df_train['Label'].astype(np.int8)"
      ],
      "execution_count": 0,
      "outputs": []
    },
    {
      "cell_type": "code",
      "metadata": {
        "id": "eh0nMqpfEhHk",
        "colab_type": "code",
        "colab": {}
      },
      "source": [
        "def tensor2np(x):\n",
        "    np_image = x.cpu().permute(1, 2, 0).numpy()\n",
        "    np_image = (np_image * 255).astype(np.uint8)\n",
        "    \n",
        "    return np_image\n",
        "\n",
        "def alb_tfm2fastai(alb_tfm):\n",
        "    def _alb_transformer(x):\n",
        "        # tensor to numpy\n",
        "        np_image = tensor2np(x)\n",
        "\n",
        "        # apply albumentations\n",
        "        transformed = alb_tfm(image=np_image)['image']\n",
        "\n",
        "        # back to tensor\n",
        "        tensor_image = pil2tensor(transformed, np.float32)\n",
        "        tensor_image.div_(255)\n",
        "\n",
        "        return tensor_image\n",
        "\n",
        "    transformer = TfmPixel(_alb_transformer)\n",
        "    \n",
        "    return transformer()"
      ],
      "execution_count": 0,
      "outputs": []
    },
    {
      "cell_type": "code",
      "metadata": {
        "id": "IzYSxRu5E_O3",
        "colab_type": "code",
        "colab": {}
      },
      "source": [
        "def get_augs(p=1.0):\n",
        "    return A.Compose([\n",
        "        A.HorizontalFlip(p=0.5),\n",
        "        A.RandomRotate90(p=1.0),\n",
        "        A.RGBShift(p=0.1, r_shift_limit=(-5, 5), g_shift_limit=(-5, 5), b_shift_limit=(-5, 5)),\n",
        "        A.ShiftScaleRotate(shift_limit=0.1, scale_limit=0.1, rotate_limit=45, p=0.1, border_mode=cv2.BORDER_REFLECT),\n",
        "        A.OneOf([\n",
        "            A.MedianBlur(p=1.0, blur_limit=7),\n",
        "            A.Blur(p=1.0, blur_limit= 7),\n",
        "            A.GaussianBlur(p=1.0, blur_limit=7),\n",
        "        ], p=0.05),\n",
        "        A.OneOf([\n",
        "            A.ElasticTransform(p=1.0, alpha=1.0, sigma=30, alpha_affine=20),\n",
        "            A.GridDistortion(p=1.0, num_steps=5, distort_limit=0.1),\n",
        "            A.OpticalDistortion(p=1.0, distort_limit=0.1, shift_limit=0.5)\n",
        "        ], p=0.1)\n",
        "    ],  p=p)\n"
      ],
      "execution_count": 0,
      "outputs": []
    },
    {
      "cell_type": "code",
      "metadata": {
        "id": "7H0AgrnxR8e_",
        "colab_type": "code",
        "colab": {}
      },
      "source": [
        "n_splits=5\n",
        "df_oof = df_train.copy()\n",
        "y_valid_preds=[]; y_test_preds = []\n",
        "kfold = StratifiedKFold(n_splits=n_splits, random_state=RANDOM_STATE, shuffle=True)\n",
        "IXS_TRAIN = []; IXS_VAL = []\n",
        "\n",
        "for i, (ix_train, ix_val) in enumerate(kfold.split(X=df_train, y=df_train.Label)):\n",
        "  fix_seed(RANDOM_STATE)\n",
        "  IXS_TRAIN.append(ix_train)\n",
        "  IXS_VAL.append(ix_val)\n",
        "  "
      ],
      "execution_count": 0,
      "outputs": []
    },
    {
      "cell_type": "code",
      "metadata": {
        "id": "wd4WdXogMwZ0",
        "colab_type": "code",
        "colab": {}
      },
      "source": [
        "path = Path('data/train')\n",
        "size = 200\n",
        "bs = 16\n",
        "alb_tfms = alb_tfm2fastai(get_augs())\n",
        "tfms = get_transforms(do_flip=False,\n",
        "                    flip_vert=False,\n",
        "                    max_lighting=0.,\n",
        "                    max_rotate=0,\n",
        "                    xtra_tfms=alb_tfms)"
      ],
      "execution_count": 0,
      "outputs": []
    },
    {
      "cell_type": "code",
      "metadata": {
        "id": "tRHwb9fKe7_I",
        "colab_type": "code",
        "outputId": "86c93a4c-c136-4e93-b4ce-cace8a824417",
        "colab": {
          "base_uri": "https://localhost:8080/",
          "height": 34
        }
      },
      "source": [
        "pos = np.sum(df_train.Label)\n",
        "neg = df_train.shape[0] - pos\n",
        "weights = torch.FloatTensor([1, neg / pos])\n",
        "weights = weights.to(device)\n",
        "weights"
      ],
      "execution_count": 0,
      "outputs": [
        {
          "output_type": "execute_result",
          "data": {
            "text/plain": [
              "tensor([1.0000, 2.9132], device='cuda:0')"
            ]
          },
          "metadata": {
            "tags": []
          },
          "execution_count": 16
        }
      ]
    },
    {
      "cell_type": "code",
      "metadata": {
        "id": "2PWeCEntNNK0",
        "colab_type": "code",
        "colab": {}
      },
      "source": [
        "def get_learner(fold_id):\n",
        "  ix_train = IXS_TRAIN[fold_id]\n",
        "  ix_val = IXS_VAL[fold_id]\n",
        "  train = df_train.iloc[ix_train]\n",
        "  val = df_train.iloc[ix_val]\n",
        "  data = (ImageList.from_df(path=path,df=df_train[['path','Label']])\n",
        "        .split_by_idxs(ix_train, ix_val)\n",
        "        .label_from_df()\n",
        "        .transform(tfms,size=size)\n",
        "        .databunch(bs=bs, num_workers=4)\n",
        "        .normalize(imagenet_stats))\n",
        "  model = EfficientNet.from_pretrained('efficientnet-b5',num_classes=2) \n",
        "  learn = Learner(data, model,\n",
        "                    loss_func=nn.CrossEntropyLoss(weight=weights),\n",
        "                    metrics=[accuracy],\n",
        "                    callback_fns=[BnFreeze]\n",
        "                  )\n",
        "  learn.split( lambda m: (model._conv_head,) )\n",
        "  learn.model_dir = MODEL_DIR\n",
        "  learn.freeze()\n",
        "  return learn"
      ],
      "execution_count": 0,
      "outputs": []
    },
    {
      "cell_type": "code",
      "metadata": {
        "id": "0GyCIR5XJWVm",
        "colab_type": "code",
        "outputId": "b0966eb3-9e77-4e4b-c5d6-0fba930d3f0e",
        "colab": {
          "base_uri": "https://localhost:8080/",
          "height": 508,
          "referenced_widgets": [
            "58de275073d544ffa1005381036ff3b5",
            "ef5166d5cb2d46a0821ccf694b19ccd0",
            "28367748bc1a4f5e97fdbb5a9c785b3e",
            "5bbd2fb2bd6542b38a01e1e51af19cb5",
            "5977bbd32111493aa4686a8851823455",
            "598d6eb8cfe84a39b2a18595f416af5b",
            "02680ddc353e479a96f66f7641e3323a",
            "e21137a6fa68450498ec663eac0f0d98"
          ]
        }
      },
      "source": [
        "fix_seed(RANDOM_STATE)\n",
        "fold_id = 1\n",
        "model_name = 'effnet5_F'+str(fold_id)\n",
        "learn = get_learner(fold_id)\n",
        "learn.lr_find(start_lr=1e-5, end_lr=1e-1, wd=5e-3)\n",
        "learn.recorder.plot(suggestion=True)"
      ],
      "execution_count": 0,
      "outputs": [
        {
          "output_type": "stream",
          "text": [
            "Downloading: \"https://github.com/lukemelas/EfficientNet-PyTorch/releases/download/1.0/efficientnet-b5-b6417697.pth\" to /root/.cache/torch/checkpoints/efficientnet-b5-b6417697.pth\n"
          ],
          "name": "stderr"
        },
        {
          "output_type": "display_data",
          "data": {
            "application/vnd.jupyter.widget-view+json": {
              "model_id": "58de275073d544ffa1005381036ff3b5",
              "version_minor": 0,
              "version_major": 2
            },
            "text/plain": [
              "HBox(children=(FloatProgress(value=0.0, max=122410125.0), HTML(value='')))"
            ]
          },
          "metadata": {
            "tags": []
          }
        },
        {
          "output_type": "stream",
          "text": [
            "\n",
            "Loaded pretrained weights for efficientnet-b5\n"
          ],
          "name": "stdout"
        },
        {
          "output_type": "display_data",
          "data": {
            "text/html": [
              "\n",
              "    <div>\n",
              "        <style>\n",
              "            /* Turns off some styling */\n",
              "            progress {\n",
              "                /* gets rid of default border in Firefox and Opera. */\n",
              "                border: none;\n",
              "                /* Needs to be in here for Safari polyfill so background images work as expected. */\n",
              "                background-size: auto;\n",
              "            }\n",
              "            .progress-bar-interrupted, .progress-bar-interrupted::-webkit-progress-bar {\n",
              "                background: #F44336;\n",
              "            }\n",
              "        </style>\n",
              "      <progress value='0' class='' max='1' style='width:300px; height:20px; vertical-align: middle;'></progress>\n",
              "      0.00% [0/1 00:00<00:00]\n",
              "    </div>\n",
              "    \n",
              "<table border=\"1\" class=\"dataframe\">\n",
              "  <thead>\n",
              "    <tr style=\"text-align: left;\">\n",
              "      <th>epoch</th>\n",
              "      <th>train_loss</th>\n",
              "      <th>valid_loss</th>\n",
              "      <th>accuracy</th>\n",
              "      <th>time</th>\n",
              "    </tr>\n",
              "  </thead>\n",
              "  <tbody>\n",
              "  </tbody>\n",
              "</table><p>\n",
              "\n",
              "    <div>\n",
              "        <style>\n",
              "            /* Turns off some styling */\n",
              "            progress {\n",
              "                /* gets rid of default border in Firefox and Opera. */\n",
              "                border: none;\n",
              "                /* Needs to be in here for Safari polyfill so background images work as expected. */\n",
              "                background-size: auto;\n",
              "            }\n",
              "            .progress-bar-interrupted, .progress-bar-interrupted::-webkit-progress-bar {\n",
              "                background: #F44336;\n",
              "            }\n",
              "        </style>\n",
              "      <progress value='99' class='' max='214' style='width:300px; height:20px; vertical-align: middle;'></progress>\n",
              "      46.26% [99/214 01:01<01:11 0.7920]\n",
              "    </div>\n",
              "    "
            ],
            "text/plain": [
              "<IPython.core.display.HTML object>"
            ]
          },
          "metadata": {
            "tags": []
          }
        },
        {
          "output_type": "stream",
          "text": [
            "LR Finder is complete, type {learner_name}.recorder.plot() to see the graph.\n",
            "Min numerical gradient: 1.91E-03\n",
            "Min loss divided by 10: 1.10E-03\n"
          ],
          "name": "stdout"
        },
        {
          "output_type": "display_data",
          "data": {
            "image/png": "[encoded data removed]",
            "text/plain": [
              "<Figure size 432x288 with 1 Axes>"
            ]
          },
          "metadata": {
            "tags": [],
            "needs_background": "light"
          }
        }
      ]
    },
    {
      "cell_type": "code",
      "metadata": {
        "id": "ThLvEIxh5X8D",
        "colab_type": "code",
        "outputId": "53fac299-1b39-44e4-a1df-fc2f875e220a",
        "colab": {
          "base_uri": "https://localhost:8080/",
          "height": 542
        }
      },
      "source": [
        "learn.fit_one_cycle(5, max_lr=8e-3, wd=5e-3, moms=(0.9, 0.8),callbacks=[SaveModelCallback(learn, monitor='valid_loss', mode='min', name=model_name+'P0')])\n",
        "learn.recorder.plot_losses()"
      ],
      "execution_count": 0,
      "outputs": [
        {
          "output_type": "display_data",
          "data": {
            "text/html": [
              "<table border=\"1\" class=\"dataframe\">\n",
              "  <thead>\n",
              "    <tr style=\"text-align: left;\">\n",
              "      <th>epoch</th>\n",
              "      <th>train_loss</th>\n",
              "      <th>valid_loss</th>\n",
              "      <th>accuracy</th>\n",
              "      <th>time</th>\n",
              "    </tr>\n",
              "  </thead>\n",
              "  <tbody>\n",
              "    <tr>\n",
              "      <td>0</td>\n",
              "      <td>0.406015</td>\n",
              "      <td>0.578551</td>\n",
              "      <td>0.865654</td>\n",
              "      <td>02:22</td>\n",
              "    </tr>\n",
              "    <tr>\n",
              "      <td>1</td>\n",
              "      <td>0.349875</td>\n",
              "      <td>0.294604</td>\n",
              "      <td>0.924065</td>\n",
              "      <td>02:23</td>\n",
              "    </tr>\n",
              "    <tr>\n",
              "      <td>2</td>\n",
              "      <td>0.272277</td>\n",
              "      <td>0.183701</td>\n",
              "      <td>0.947430</td>\n",
              "      <td>02:22</td>\n",
              "    </tr>\n",
              "    <tr>\n",
              "      <td>3</td>\n",
              "      <td>0.178789</td>\n",
              "      <td>0.125111</td>\n",
              "      <td>0.952103</td>\n",
              "      <td>02:22</td>\n",
              "    </tr>\n",
              "    <tr>\n",
              "      <td>4</td>\n",
              "      <td>0.146864</td>\n",
              "      <td>0.114864</td>\n",
              "      <td>0.947430</td>\n",
              "      <td>02:23</td>\n",
              "    </tr>\n",
              "  </tbody>\n",
              "</table>"
            ],
            "text/plain": [
              "<IPython.core.display.HTML object>"
            ]
          },
          "metadata": {
            "tags": []
          }
        },
        {
          "output_type": "stream",
          "text": [
            "Better model found at epoch 0 with valid_loss value: 0.5785506963729858.\n",
            "Better model found at epoch 1 with valid_loss value: 0.29460400342941284.\n",
            "Better model found at epoch 2 with valid_loss value: 0.18370139598846436.\n",
            "Better model found at epoch 3 with valid_loss value: 0.12511128187179565.\n",
            "Better model found at epoch 4 with valid_loss value: 0.11486415565013885.\n"
          ],
          "name": "stdout"
        },
        {
          "output_type": "display_data",
          "data": {
            "image/png": "[encoded data removed]",
            "text/plain": [
              "<Figure size 432x288 with 1 Axes>"
            ]
          },
          "metadata": {
            "tags": [],
            "needs_background": "light"
          }
        }
      ]
    },
    {
      "cell_type": "code",
      "metadata": {
        "id": "rNCazYcgGEwN",
        "colab_type": "code",
        "outputId": "e7fd62da-da96-42a8-fdd2-77be8cd579a3",
        "colab": {
          "base_uri": "https://localhost:8080/",
          "height": 389
        }
      },
      "source": [
        "# unfreeze\n",
        "fix_seed(RANDOM_STATE)\n",
        "learn.load(model_name+'P0')\n",
        "learn.unfreeze()\n",
        "learn.lr_find(wd=1e-3)\n",
        "learn.recorder.plot(suggestion=True)"
      ],
      "execution_count": 0,
      "outputs": [
        {
          "output_type": "display_data",
          "data": {
            "text/html": [
              "\n",
              "    <div>\n",
              "        <style>\n",
              "            /* Turns off some styling */\n",
              "            progress {\n",
              "                /* gets rid of default border in Firefox and Opera. */\n",
              "                border: none;\n",
              "                /* Needs to be in here for Safari polyfill so background images work as expected. */\n",
              "                background-size: auto;\n",
              "            }\n",
              "            .progress-bar-interrupted, .progress-bar-interrupted::-webkit-progress-bar {\n",
              "                background: #F44336;\n",
              "            }\n",
              "        </style>\n",
              "      <progress value='0' class='' max='1' style='width:300px; height:20px; vertical-align: middle;'></progress>\n",
              "      0.00% [0/1 00:00<00:00]\n",
              "    </div>\n",
              "    \n",
              "<table border=\"1\" class=\"dataframe\">\n",
              "  <thead>\n",
              "    <tr style=\"text-align: left;\">\n",
              "      <th>epoch</th>\n",
              "      <th>train_loss</th>\n",
              "      <th>valid_loss</th>\n",
              "      <th>accuracy</th>\n",
              "      <th>time</th>\n",
              "    </tr>\n",
              "  </thead>\n",
              "  <tbody>\n",
              "  </tbody>\n",
              "</table><p>\n",
              "\n",
              "    <div>\n",
              "        <style>\n",
              "            /* Turns off some styling */\n",
              "            progress {\n",
              "                /* gets rid of default border in Firefox and Opera. */\n",
              "                border: none;\n",
              "                /* Needs to be in here for Safari polyfill so background images work as expected. */\n",
              "                background-size: auto;\n",
              "            }\n",
              "            .progress-bar-interrupted, .progress-bar-interrupted::-webkit-progress-bar {\n",
              "                background: #F44336;\n",
              "            }\n",
              "        </style>\n",
              "      <progress value='2' class='' max='214' style='width:300px; height:20px; vertical-align: middle;'></progress>\n",
              "      0.93% [2/214 00:02<04:17 0.1511]\n",
              "    </div>\n",
              "    "
            ],
            "text/plain": [
              "<IPython.core.display.HTML object>"
            ]
          },
          "metadata": {
            "tags": []
          }
        },
        {
          "output_type": "stream",
          "text": [
            "LR Finder is complete, type {learner_name}.recorder.plot() to see the graph.\n",
            "Failed to compute the gradients, there might not be enough points.\n"
          ],
          "name": "stdout"
        },
        {
          "output_type": "display_data",
          "data": {
            "image/png": "[encoded data removed]",
            "text/plain": [
              "<Figure size 432x288 with 1 Axes>"
            ]
          },
          "metadata": {
            "tags": [],
            "needs_background": "light"
          }
        }
      ]
    },
    {
      "cell_type": "code",
      "metadata": {
        "id": "ioyz9n8wzR1v",
        "colab_type": "code",
        "outputId": "bd1694b1-8ab2-48c9-9014-3f717838e406",
        "colab": {
          "base_uri": "https://localhost:8080/",
          "height": 985
        }
      },
      "source": [
        "# train all layers \n",
        "fix_seed(RANDOM_STATE)\n",
        "learn.load(model_name+'P0')\n",
        "learn.fit_one_cycle(10, max_lr=slice(1e-4, 1e-3),wd=1e-3, moms=(0.9, 0.8),callbacks=[SaveModelCallback(learn, monitor='valid_loss', mode='min', name=model_name+'P1')])\n",
        "learn.recorder.plot_losses()\n",
        "learn.recorder.plot_lr(show_moms=True)"
      ],
      "execution_count": 0,
      "outputs": [
        {
          "output_type": "display_data",
          "data": {
            "text/html": [
              "<table border=\"1\" class=\"dataframe\">\n",
              "  <thead>\n",
              "    <tr style=\"text-align: left;\">\n",
              "      <th>epoch</th>\n",
              "      <th>train_loss</th>\n",
              "      <th>valid_loss</th>\n",
              "      <th>accuracy</th>\n",
              "      <th>time</th>\n",
              "    </tr>\n",
              "  </thead>\n",
              "  <tbody>\n",
              "    <tr>\n",
              "      <td>0</td>\n",
              "      <td>0.135621</td>\n",
              "      <td>0.111319</td>\n",
              "      <td>0.954439</td>\n",
              "      <td>03:18</td>\n",
              "    </tr>\n",
              "    <tr>\n",
              "      <td>1</td>\n",
              "      <td>0.151019</td>\n",
              "      <td>0.095606</td>\n",
              "      <td>0.961449</td>\n",
              "      <td>03:19</td>\n",
              "    </tr>\n",
              "    <tr>\n",
              "      <td>2</td>\n",
              "      <td>0.143871</td>\n",
              "      <td>0.085785</td>\n",
              "      <td>0.963785</td>\n",
              "      <td>03:18</td>\n",
              "    </tr>\n",
              "    <tr>\n",
              "      <td>3</td>\n",
              "      <td>0.133367</td>\n",
              "      <td>0.079800</td>\n",
              "      <td>0.968458</td>\n",
              "      <td>03:18</td>\n",
              "    </tr>\n",
              "    <tr>\n",
              "      <td>4</td>\n",
              "      <td>0.136352</td>\n",
              "      <td>0.078320</td>\n",
              "      <td>0.971963</td>\n",
              "      <td>03:19</td>\n",
              "    </tr>\n",
              "    <tr>\n",
              "      <td>5</td>\n",
              "      <td>0.095908</td>\n",
              "      <td>0.083061</td>\n",
              "      <td>0.964953</td>\n",
              "      <td>03:19</td>\n",
              "    </tr>\n",
              "    <tr>\n",
              "      <td>6</td>\n",
              "      <td>0.069604</td>\n",
              "      <td>0.062700</td>\n",
              "      <td>0.974299</td>\n",
              "      <td>03:18</td>\n",
              "    </tr>\n",
              "    <tr>\n",
              "      <td>7</td>\n",
              "      <td>0.067883</td>\n",
              "      <td>0.065025</td>\n",
              "      <td>0.973131</td>\n",
              "      <td>03:19</td>\n",
              "    </tr>\n",
              "    <tr>\n",
              "      <td>8</td>\n",
              "      <td>0.065850</td>\n",
              "      <td>0.061155</td>\n",
              "      <td>0.982477</td>\n",
              "      <td>03:17</td>\n",
              "    </tr>\n",
              "    <tr>\n",
              "      <td>9</td>\n",
              "      <td>0.050100</td>\n",
              "      <td>0.062189</td>\n",
              "      <td>0.975467</td>\n",
              "      <td>03:17</td>\n",
              "    </tr>\n",
              "  </tbody>\n",
              "</table>"
            ],
            "text/plain": [
              "<IPython.core.display.HTML object>"
            ]
          },
          "metadata": {
            "tags": []
          }
        },
        {
          "output_type": "stream",
          "text": [
            "Better model found at epoch 0 with valid_loss value: 0.11131931841373444.\n",
            "Better model found at epoch 1 with valid_loss value: 0.09560636430978775.\n",
            "Better model found at epoch 2 with valid_loss value: 0.08578506112098694.\n",
            "Better model found at epoch 3 with valid_loss value: 0.0797995924949646.\n",
            "Better model found at epoch 4 with valid_loss value: 0.07831951230764389.\n",
            "Better model found at epoch 6 with valid_loss value: 0.06270025670528412.\n",
            "Better model found at epoch 8 with valid_loss value: 0.061154551804065704.\n"
          ],
          "name": "stdout"
        },
        {
          "output_type": "display_data",
          "data": {
            "image/png": "[encoded data removed]",
            "text/plain": [
              "<Figure size 432x288 with 1 Axes>"
            ]
          },
          "metadata": {
            "tags": [],
            "needs_background": "light"
          }
        },
        {
          "output_type": "display_data",
          "data": {
            "image/png": "[encoded data removed]",
            "text/plain": [
              "<Figure size 864x288 with 2 Axes>"
            ]
          },
          "metadata": {
            "tags": [],
            "needs_background": "light"
          }
        }
      ]
    }
  ]
}
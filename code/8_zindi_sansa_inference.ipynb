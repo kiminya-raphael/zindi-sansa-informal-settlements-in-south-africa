{
  "nbformat": 4,
  "nbformat_minor": 0,
  "metadata": {
    "colab": {
      "name": "8_zindi_sansa_inference.ipynb",
      "provenance": [],
      "collapsed_sections": []
    },
    "kernelspec": {
      "name": "python3",
      "display_name": "Python 3"
    },
    "accelerator": "GPU",
    "widgets": {
      "application/vnd.jupyter.widget-state+json": {
        "d2d36b19983a421183c70bd7b1820229": {
          "model_module": "@jupyter-widgets/controls",
          "model_name": "HBoxModel",
          "state": {
            "_view_name": "HBoxView",
            "_dom_classes": [],
            "_model_name": "HBoxModel",
            "_view_module": "@jupyter-widgets/controls",
            "_model_module_version": "1.5.0",
            "_view_count": null,
            "_view_module_version": "1.5.0",
            "box_style": "",
            "layout": "IPY_MODEL_fd2a563f165f4a608ca60b20880b76f0",
            "_model_module": "@jupyter-widgets/controls",
            "children": [
              "IPY_MODEL_67afb6e3377640349a83d3c48457ead5",
              "IPY_MODEL_9d5715f12df640b5bd5aaa3eae002312"
            ]
          }
        },
        "fd2a563f165f4a608ca60b20880b76f0": {
          "model_module": "@jupyter-widgets/base",
          "model_name": "LayoutModel",
          "state": {
            "_view_name": "LayoutView",
            "grid_template_rows": null,
            "right": null,
            "justify_content": null,
            "_view_module": "@jupyter-widgets/base",
            "overflow": null,
            "_model_module_version": "1.2.0",
            "_view_count": null,
            "flex_flow": null,
            "width": null,
            "min_width": null,
            "border": null,
            "align_items": null,
            "bottom": null,
            "_model_module": "@jupyter-widgets/base",
            "top": null,
            "grid_column": null,
            "overflow_y": null,
            "overflow_x": null,
            "grid_auto_flow": null,
            "grid_area": null,
            "grid_template_columns": null,
            "flex": null,
            "_model_name": "LayoutModel",
            "justify_items": null,
            "grid_row": null,
            "max_height": null,
            "align_content": null,
            "visibility": null,
            "align_self": null,
            "height": null,
            "min_height": null,
            "padding": null,
            "grid_auto_rows": null,
            "grid_gap": null,
            "max_width": null,
            "order": null,
            "_view_module_version": "1.2.0",
            "grid_template_areas": null,
            "object_position": null,
            "object_fit": null,
            "grid_auto_columns": null,
            "margin": null,
            "display": null,
            "left": null
          }
        },
        "67afb6e3377640349a83d3c48457ead5": {
          "model_module": "@jupyter-widgets/controls",
          "model_name": "FloatProgressModel",
          "state": {
            "_view_name": "ProgressView",
            "style": "IPY_MODEL_5a337300aa33493a861aff8d52458d84",
            "_dom_classes": [],
            "description": "100%",
            "_model_name": "FloatProgressModel",
            "bar_style": "success",
            "max": 77999237,
            "_view_module": "@jupyter-widgets/controls",
            "_model_module_version": "1.5.0",
            "value": 77999237,
            "_view_count": null,
            "_view_module_version": "1.5.0",
            "orientation": "horizontal",
            "min": 0,
            "description_tooltip": null,
            "_model_module": "@jupyter-widgets/controls",
            "layout": "IPY_MODEL_dbad179888f24f218f4774992adce606"
          }
        },
        "9d5715f12df640b5bd5aaa3eae002312": {
          "model_module": "@jupyter-widgets/controls",
          "model_name": "HTMLModel",
          "state": {
            "_view_name": "HTMLView",
            "style": "IPY_MODEL_30b933f0475342bdb838dcfeb4a8bd5e",
            "_dom_classes": [],
            "description": "",
            "_model_name": "HTMLModel",
            "placeholder": "​",
            "_view_module": "@jupyter-widgets/controls",
            "_model_module_version": "1.5.0",
            "value": " 74.4M/74.4M [00:03&lt;00:00, 24.5MB/s]",
            "_view_count": null,
            "_view_module_version": "1.5.0",
            "description_tooltip": null,
            "_model_module": "@jupyter-widgets/controls",
            "layout": "IPY_MODEL_c5de4a2648d14e649091a12c5cdc021d"
          }
        },
        "5a337300aa33493a861aff8d52458d84": {
          "model_module": "@jupyter-widgets/controls",
          "model_name": "ProgressStyleModel",
          "state": {
            "_view_name": "StyleView",
            "_model_name": "ProgressStyleModel",
            "description_width": "initial",
            "_view_module": "@jupyter-widgets/base",
            "_model_module_version": "1.5.0",
            "_view_count": null,
            "_view_module_version": "1.2.0",
            "bar_color": null,
            "_model_module": "@jupyter-widgets/controls"
          }
        },
        "dbad179888f24f218f4774992adce606": {
          "model_module": "@jupyter-widgets/base",
          "model_name": "LayoutModel",
          "state": {
            "_view_name": "LayoutView",
            "grid_template_rows": null,
            "right": null,
            "justify_content": null,
            "_view_module": "@jupyter-widgets/base",
            "overflow": null,
            "_model_module_version": "1.2.0",
            "_view_count": null,
            "flex_flow": null,
            "width": null,
            "min_width": null,
            "border": null,
            "align_items": null,
            "bottom": null,
            "_model_module": "@jupyter-widgets/base",
            "top": null,
            "grid_column": null,
            "overflow_y": null,
            "overflow_x": null,
            "grid_auto_flow": null,
            "grid_area": null,
            "grid_template_columns": null,
            "flex": null,
            "_model_name": "LayoutModel",
            "justify_items": null,
            "grid_row": null,
            "max_height": null,
            "align_content": null,
            "visibility": null,
            "align_self": null,
            "height": null,
            "min_height": null,
            "padding": null,
            "grid_auto_rows": null,
            "grid_gap": null,
            "max_width": null,
            "order": null,
            "_view_module_version": "1.2.0",
            "grid_template_areas": null,
            "object_position": null,
            "object_fit": null,
            "grid_auto_columns": null,
            "margin": null,
            "display": null,
            "left": null
          }
        },
        "30b933f0475342bdb838dcfeb4a8bd5e": {
          "model_module": "@jupyter-widgets/controls",
          "model_name": "DescriptionStyleModel",
          "state": {
            "_view_name": "StyleView",
            "_model_name": "DescriptionStyleModel",
            "description_width": "",
            "_view_module": "@jupyter-widgets/base",
            "_model_module_version": "1.5.0",
            "_view_count": null,
            "_view_module_version": "1.2.0",
            "_model_module": "@jupyter-widgets/controls"
          }
        },
        "c5de4a2648d14e649091a12c5cdc021d": {
          "model_module": "@jupyter-widgets/base",
          "model_name": "LayoutModel",
          "state": {
            "_view_name": "LayoutView",
            "grid_template_rows": null,
            "right": null,
            "justify_content": null,
            "_view_module": "@jupyter-widgets/base",
            "overflow": null,
            "_model_module_version": "1.2.0",
            "_view_count": null,
            "flex_flow": null,
            "width": null,
            "min_width": null,
            "border": null,
            "align_items": null,
            "bottom": null,
            "_model_module": "@jupyter-widgets/base",
            "top": null,
            "grid_column": null,
            "overflow_y": null,
            "overflow_x": null,
            "grid_auto_flow": null,
            "grid_area": null,
            "grid_template_columns": null,
            "flex": null,
            "_model_name": "LayoutModel",
            "justify_items": null,
            "grid_row": null,
            "max_height": null,
            "align_content": null,
            "visibility": null,
            "align_self": null,
            "height": null,
            "min_height": null,
            "padding": null,
            "grid_auto_rows": null,
            "grid_gap": null,
            "max_width": null,
            "order": null,
            "_view_module_version": "1.2.0",
            "grid_template_areas": null,
            "object_position": null,
            "object_fit": null,
            "grid_auto_columns": null,
            "margin": null,
            "display": null,
            "left": null
          }
        },
        "dcbea4143b4e4e1c9b37fcd893d11ba1": {
          "model_module": "@jupyter-widgets/controls",
          "model_name": "HBoxModel",
          "state": {
            "_view_name": "HBoxView",
            "_dom_classes": [],
            "_model_name": "HBoxModel",
            "_view_module": "@jupyter-widgets/controls",
            "_model_module_version": "1.5.0",
            "_view_count": null,
            "_view_module_version": "1.5.0",
            "box_style": "",
            "layout": "IPY_MODEL_cab0cedee26d43d392627e3c617a1398",
            "_model_module": "@jupyter-widgets/controls",
            "children": [
              "IPY_MODEL_773ab368bf2542c1ba06f40982cd9135",
              "IPY_MODEL_6049f3a1973e4547be66109c10fd76d2"
            ]
          }
        },
        "cab0cedee26d43d392627e3c617a1398": {
          "model_module": "@jupyter-widgets/base",
          "model_name": "LayoutModel",
          "state": {
            "_view_name": "LayoutView",
            "grid_template_rows": null,
            "right": null,
            "justify_content": null,
            "_view_module": "@jupyter-widgets/base",
            "overflow": null,
            "_model_module_version": "1.2.0",
            "_view_count": null,
            "flex_flow": null,
            "width": null,
            "min_width": null,
            "border": null,
            "align_items": null,
            "bottom": null,
            "_model_module": "@jupyter-widgets/base",
            "top": null,
            "grid_column": null,
            "overflow_y": null,
            "overflow_x": null,
            "grid_auto_flow": null,
            "grid_area": null,
            "grid_template_columns": null,
            "flex": null,
            "_model_name": "LayoutModel",
            "justify_items": null,
            "grid_row": null,
            "max_height": null,
            "align_content": null,
            "visibility": null,
            "align_self": null,
            "height": null,
            "min_height": null,
            "padding": null,
            "grid_auto_rows": null,
            "grid_gap": null,
            "max_width": null,
            "order": null,
            "_view_module_version": "1.2.0",
            "grid_template_areas": null,
            "object_position": null,
            "object_fit": null,
            "grid_auto_columns": null,
            "margin": null,
            "display": null,
            "left": null
          }
        },
        "773ab368bf2542c1ba06f40982cd9135": {
          "model_module": "@jupyter-widgets/controls",
          "model_name": "FloatProgressModel",
          "state": {
            "_view_name": "ProgressView",
            "style": "IPY_MODEL_f0ad5314816f489e925aad5fd9c4777a",
            "_dom_classes": [],
            "description": "100%",
            "_model_name": "FloatProgressModel",
            "bar_style": "success",
            "max": 122410125,
            "_view_module": "@jupyter-widgets/controls",
            "_model_module_version": "1.5.0",
            "value": 122410125,
            "_view_count": null,
            "_view_module_version": "1.5.0",
            "orientation": "horizontal",
            "min": 0,
            "description_tooltip": null,
            "_model_module": "@jupyter-widgets/controls",
            "layout": "IPY_MODEL_9bbfcd4f98354feca31d72dd7b711051"
          }
        },
        "6049f3a1973e4547be66109c10fd76d2": {
          "model_module": "@jupyter-widgets/controls",
          "model_name": "HTMLModel",
          "state": {
            "_view_name": "HTMLView",
            "style": "IPY_MODEL_bf3e1efaf20f45d5b63d70e085a3bc65",
            "_dom_classes": [],
            "description": "",
            "_model_name": "HTMLModel",
            "placeholder": "​",
            "_view_module": "@jupyter-widgets/controls",
            "_model_module_version": "1.5.0",
            "value": " 117M/117M [00:04&lt;00:00, 28.4MB/s]",
            "_view_count": null,
            "_view_module_version": "1.5.0",
            "description_tooltip": null,
            "_model_module": "@jupyter-widgets/controls",
            "layout": "IPY_MODEL_cbeb36feb1e743b6a196c35815511ed3"
          }
        },
        "f0ad5314816f489e925aad5fd9c4777a": {
          "model_module": "@jupyter-widgets/controls",
          "model_name": "ProgressStyleModel",
          "state": {
            "_view_name": "StyleView",
            "_model_name": "ProgressStyleModel",
            "description_width": "initial",
            "_view_module": "@jupyter-widgets/base",
            "_model_module_version": "1.5.0",
            "_view_count": null,
            "_view_module_version": "1.2.0",
            "bar_color": null,
            "_model_module": "@jupyter-widgets/controls"
          }
        },
        "9bbfcd4f98354feca31d72dd7b711051": {
          "model_module": "@jupyter-widgets/base",
          "model_name": "LayoutModel",
          "state": {
            "_view_name": "LayoutView",
            "grid_template_rows": null,
            "right": null,
            "justify_content": null,
            "_view_module": "@jupyter-widgets/base",
            "overflow": null,
            "_model_module_version": "1.2.0",
            "_view_count": null,
            "flex_flow": null,
            "width": null,
            "min_width": null,
            "border": null,
            "align_items": null,
            "bottom": null,
            "_model_module": "@jupyter-widgets/base",
            "top": null,
            "grid_column": null,
            "overflow_y": null,
            "overflow_x": null,
            "grid_auto_flow": null,
            "grid_area": null,
            "grid_template_columns": null,
            "flex": null,
            "_model_name": "LayoutModel",
            "justify_items": null,
            "grid_row": null,
            "max_height": null,
            "align_content": null,
            "visibility": null,
            "align_self": null,
            "height": null,
            "min_height": null,
            "padding": null,
            "grid_auto_rows": null,
            "grid_gap": null,
            "max_width": null,
            "order": null,
            "_view_module_version": "1.2.0",
            "grid_template_areas": null,
            "object_position": null,
            "object_fit": null,
            "grid_auto_columns": null,
            "margin": null,
            "display": null,
            "left": null
          }
        },
        "bf3e1efaf20f45d5b63d70e085a3bc65": {
          "model_module": "@jupyter-widgets/controls",
          "model_name": "DescriptionStyleModel",
          "state": {
            "_view_name": "StyleView",
            "_model_name": "DescriptionStyleModel",
            "description_width": "",
            "_view_module": "@jupyter-widgets/base",
            "_model_module_version": "1.5.0",
            "_view_count": null,
            "_view_module_version": "1.2.0",
            "_model_module": "@jupyter-widgets/controls"
          }
        },
        "cbeb36feb1e743b6a196c35815511ed3": {
          "model_module": "@jupyter-widgets/base",
          "model_name": "LayoutModel",
          "state": {
            "_view_name": "LayoutView",
            "grid_template_rows": null,
            "right": null,
            "justify_content": null,
            "_view_module": "@jupyter-widgets/base",
            "overflow": null,
            "_model_module_version": "1.2.0",
            "_view_count": null,
            "flex_flow": null,
            "width": null,
            "min_width": null,
            "border": null,
            "align_items": null,
            "bottom": null,
            "_model_module": "@jupyter-widgets/base",
            "top": null,
            "grid_column": null,
            "overflow_y": null,
            "overflow_x": null,
            "grid_auto_flow": null,
            "grid_area": null,
            "grid_template_columns": null,
            "flex": null,
            "_model_name": "LayoutModel",
            "justify_items": null,
            "grid_row": null,
            "max_height": null,
            "align_content": null,
            "visibility": null,
            "align_self": null,
            "height": null,
            "min_height": null,
            "padding": null,
            "grid_auto_rows": null,
            "grid_gap": null,
            "max_width": null,
            "order": null,
            "_view_module_version": "1.2.0",
            "grid_template_areas": null,
            "object_position": null,
            "object_fit": null,
            "grid_auto_columns": null,
            "margin": null,
            "display": null,
            "left": null
          }
        }
      }
    }
  },
  "cells": [
    {
      "cell_type": "code",
      "metadata": {
        "id": "tdFK49CIi1VC",
        "colab_type": "code",
        "colab": {}
      },
      "source": [
        "## Generates weighted predictions from trained models"
      ],
      "execution_count": 0,
      "outputs": []
    },
    {
      "cell_type": "code",
      "metadata": {
        "id": "fSqqsCiXPTFm",
        "colab_type": "code",
        "colab": {}
      },
      "source": [
        "# ## OPTIONAL - download models used to generate the best submission\n",
        "# !pip -qq install gdown\n",
        "# !gdown -O models.zip --id 1--Z87pnj5X0RkUiQIYsm0Y5iQCn9xFFU\n",
        "# !unzip -qq models.zip"
      ],
      "execution_count": 0,
      "outputs": []
    },
    {
      "cell_type": "code",
      "metadata": {
        "id": "ePkK-dWy_Gt9",
        "colab_type": "code",
        "colab": {}
      },
      "source": [
        "import pandas as pd, numpy as np\n",
        "import sys, os, cv2, random, shutil,time                                                                                                                                                      \n",
        "import PIL\n",
        "from fastai.vision import *\n",
        "from fastai.metrics import error_rate\n",
        "from fastai.callbacks import SaveModelCallback\n",
        "from sklearn.model_selection import KFold,StratifiedKFold\n",
        "\n",
        "import sklearn.metrics as skmetrics"
      ],
      "execution_count": 0,
      "outputs": []
    },
    {
      "cell_type": "code",
      "metadata": {
        "id": "-mmldGbpw7Px",
        "colab_type": "code",
        "outputId": "4cabf763-3275-46c6-fb76-37a3207cbba8",
        "colab": {
          "base_uri": "https://localhost:8080/",
          "height": 17
        }
      },
      "source": [
        "from fastai_extensions import *\n",
        "from efficientnet_pytorch import EfficientNet\n",
        "import albumentations as A"
      ],
      "execution_count": 0,
      "outputs": [
        {
          "output_type": "display_data",
          "data": {
            "text/html": [
              "<style>.container { width:100% !important; }</style>"
            ],
            "text/plain": [
              "<IPython.core.display.HTML object>"
            ]
          },
          "metadata": {
            "tags": []
          }
        },
        {
          "output_type": "display_data",
          "data": {
            "text/html": [
              "<style>.container { width:100% !important; }</style>"
            ],
            "text/plain": [
              "<IPython.core.display.HTML object>"
            ]
          },
          "metadata": {
            "tags": []
          }
        },
        {
          "output_type": "display_data",
          "data": {
            "text/html": [
              "<style>.container { width:100% !important; }</style>"
            ],
            "text/plain": [
              "<IPython.core.display.HTML object>"
            ]
          },
          "metadata": {
            "tags": []
          }
        }
      ]
    },
    {
      "cell_type": "code",
      "metadata": {
        "id": "d9bSWztExHOa",
        "colab_type": "code",
        "colab": {}
      },
      "source": [
        "RANDOM_STATE = 41\n",
        "def fix_seed(seed=0):\n",
        "    random.seed(seed)\n",
        "    os.environ['PYTHONHASHSEED'] = str(seed)\n",
        "    np.random.seed(seed)\n",
        "    torch.manual_seed(seed)\n",
        "    torch.cuda.manual_seed(seed)\n",
        "    torch.backends.cudnn.deterministic = True\n",
        "fix_seed(RANDOM_STATE)"
      ],
      "execution_count": 0,
      "outputs": []
    },
    {
      "cell_type": "code",
      "metadata": {
        "id": "pU9RNSHjTmfJ",
        "colab_type": "code",
        "colab": {}
      },
      "source": [
        "DATA_DIR = 'data/'\n",
        "df_train = pd.read_csv(f'{DATA_DIR}/Train.csv')\n",
        "df_test = pd.read_csv(f'{DATA_DIR}/Test.csv')\n",
        "MODEL_DIR = '../../models' ##load models from current directory (relative to data/train)"
      ],
      "execution_count": 0,
      "outputs": []
    },
    {
      "cell_type": "code",
      "metadata": {
        "id": "v9QFbdThWKQw",
        "colab_type": "code",
        "colab": {}
      },
      "source": [
        "df_train['path']  = df_train['ID']+'.jpg'\n",
        "df_train['Label']  = df_train['Label'].astype(np.int8)"
      ],
      "execution_count": 0,
      "outputs": []
    },
    {
      "cell_type": "code",
      "metadata": {
        "id": "eh0nMqpfEhHk",
        "colab_type": "code",
        "colab": {}
      },
      "source": [
        "def tensor2np(x):\n",
        "    np_image = x.cpu().permute(1, 2, 0).numpy()\n",
        "    np_image = (np_image * 255).astype(np.uint8)\n",
        "    \n",
        "    return np_image\n",
        "\n",
        "def alb_tfm2fastai(alb_tfm):\n",
        "    def _alb_transformer(x):\n",
        "        # tensor to numpy\n",
        "        np_image = tensor2np(x)\n",
        "\n",
        "        # apply albumentations\n",
        "        transformed = alb_tfm(image=np_image)['image']\n",
        "\n",
        "        # back to tensor\n",
        "        tensor_image = pil2tensor(transformed, np.float32)\n",
        "        tensor_image.div_(255)\n",
        "\n",
        "        return tensor_image\n",
        "\n",
        "    transformer = TfmPixel(_alb_transformer)\n",
        "    \n",
        "    return transformer()"
      ],
      "execution_count": 0,
      "outputs": []
    },
    {
      "cell_type": "code",
      "metadata": {
        "id": "IzYSxRu5E_O3",
        "colab_type": "code",
        "colab": {}
      },
      "source": [
        "def get_augs(p=1.0):\n",
        "    return A.Compose([\n",
        "        A.HorizontalFlip(p=0.5),\n",
        "        A.RandomRotate90(p=1.0),\n",
        "        A.RGBShift(p=0.1, r_shift_limit=(-5, 5), g_shift_limit=(-5, 5), b_shift_limit=(-5, 5)),\n",
        "        A.ShiftScaleRotate(shift_limit=0.1, scale_limit=0.1, rotate_limit=45, p=0.1, border_mode=cv2.BORDER_REFLECT),\n",
        "        A.OneOf([\n",
        "            A.MedianBlur(p=1.0, blur_limit=7),\n",
        "            A.Blur(p=1.0, blur_limit= 7),\n",
        "            A.GaussianBlur(p=1.0, blur_limit=7),\n",
        "        ], p=0.05),\n",
        "        A.OneOf([\n",
        "            A.ElasticTransform(p=1.0, alpha=1.0, sigma=30, alpha_affine=20),\n",
        "            A.GridDistortion(p=1.0, num_steps=5, distort_limit=0.1),\n",
        "            A.OpticalDistortion(p=1.0, distort_limit=0.1, shift_limit=0.5)\n",
        "        ], p=0.1)\n",
        "    ],  p=p)\n"
      ],
      "execution_count": 0,
      "outputs": []
    },
    {
      "cell_type": "code",
      "metadata": {
        "id": "YLYUDY7BFJre",
        "colab_type": "code",
        "colab": {}
      },
      "source": [
        "size=200\n",
        "bs = 16\n",
        "path = Path(f'{DATA_DIR}/train')\n",
        "\n",
        "alb_tfms = alb_tfm2fastai(get_augs())\n",
        "tfms = get_transforms(do_flip=False,\n",
        "                      flip_vert=False,\n",
        "                      max_lighting=0.,\n",
        "                      max_rotate=0.,\n",
        "                      xtra_tfms=alb_tfms)\n",
        "\n",
        "##data with albumentations transforms\n",
        "data = (ImageList.from_df(path=path,df=df_train[['path','Label']])\n",
        "        .split_none()\n",
        "        .label_from_df()\n",
        "        .transform(tfms,size=size)\n",
        "        .databunch(bs=bs, num_workers=4)\n",
        "        .normalize(imagenet_stats))\n",
        "\n",
        "##data for cutmix model with default transforms\n",
        "data_cmix = (ImageList.from_df(path=path,df=df_train[['path','Label']])\n",
        "        .split_none()\n",
        "        .label_from_df()\n",
        "        .transform(get_transforms(),size=size)\n",
        "        .databunch(bs=bs, num_workers=4)\n",
        "        .normalize(imagenet_stats))"
      ],
      "execution_count": 0,
      "outputs": []
    },
    {
      "cell_type": "code",
      "metadata": {
        "id": "Hi35gCTwkhiX",
        "colab_type": "code",
        "colab": {}
      },
      "source": [
        "def get_preds(model_name):\n",
        "  learn.load(model_name)\n",
        "  learn.model.eval()\n",
        "  preds_test, _ = learn.TTA(ds_type=DatasetType.Test)\n",
        "  preds_test = preds_test.cpu().detach().numpy()\n",
        "  preds_test = preds_test[:,1]\n",
        "  return preds_test"
      ],
      "execution_count": 0,
      "outputs": []
    },
    {
      "cell_type": "code",
      "metadata": {
        "id": "RxivDSino-_z",
        "colab_type": "code",
        "colab": {}
      },
      "source": [
        "ALL_PREDS = []"
      ],
      "execution_count": 0,
      "outputs": []
    },
    {
      "cell_type": "code",
      "metadata": {
        "id": "tRHwb9fKe7_I",
        "colab_type": "code",
        "outputId": "8883d0f9-862a-4dcf-8c56-92f76e4a485d",
        "colab": {
          "base_uri": "https://localhost:8080/",
          "height": 34
        }
      },
      "source": [
        "pos = np.sum(df_train.Label)\n",
        "neg = df_train.shape[0] - pos\n",
        "weights = torch.FloatTensor([1, neg / pos])\n",
        "weights = weights.to(device)\n",
        "weights"
      ],
      "execution_count": 0,
      "outputs": [
        {
          "output_type": "execute_result",
          "data": {
            "text/plain": [
              "tensor([1.0000, 2.9132], device='cuda:0')"
            ]
          },
          "metadata": {
            "tags": []
          },
          "execution_count": 16
        }
      ]
    },
    {
      "cell_type": "code",
      "metadata": {
        "id": "0GyCIR5XJWVm",
        "colab_type": "code",
        "outputId": "4d98a63c-b998-492b-c128-653988f26df1",
        "colab": {
          "base_uri": "https://localhost:8080/",
          "height": 119,
          "referenced_widgets": [
            "d2d36b19983a421183c70bd7b1820229",
            "fd2a563f165f4a608ca60b20880b76f0",
            "67afb6e3377640349a83d3c48457ead5",
            "9d5715f12df640b5bd5aaa3eae002312",
            "5a337300aa33493a861aff8d52458d84",
            "dbad179888f24f218f4774992adce606",
            "30b933f0475342bdb838dcfeb4a8bd5e",
            "c5de4a2648d14e649091a12c5cdc021d"
          ]
        }
      },
      "source": [
        "## B4 model\n",
        "fix_seed(RANDOM_STATE)\n",
        "model = EfficientNet.from_pretrained('efficientnet-b4',num_classes=2) \n",
        "learn = Learner(data, model,\n",
        "                loss_func=nn.CrossEntropyLoss(weight=weights),\n",
        "                metrics=[accuracy],\n",
        "                callback_fns=[BnFreeze]\n",
        "               )\n",
        "learn.split( lambda m: (model._conv_head,) )\n",
        "learn.data.add_test(ImageList.from_folder(path='data/test/'))\n",
        "learn.model_dir = MODEL_DIR"
      ],
      "execution_count": 0,
      "outputs": [
        {
          "output_type": "stream",
          "text": [
            "Downloading: \"https://github.com/lukemelas/EfficientNet-PyTorch/releases/download/1.0/efficientnet-b4-6ed6700e.pth\" to /root/.cache/torch/checkpoints/efficientnet-b4-6ed6700e.pth\n"
          ],
          "name": "stderr"
        },
        {
          "output_type": "display_data",
          "data": {
            "application/vnd.jupyter.widget-view+json": {
              "model_id": "d2d36b19983a421183c70bd7b1820229",
              "version_minor": 0,
              "version_major": 2
            },
            "text/plain": [
              "HBox(children=(FloatProgress(value=0.0, max=77999237.0), HTML(value='')))"
            ]
          },
          "metadata": {
            "tags": []
          }
        },
        {
          "output_type": "stream",
          "text": [
            "\n",
            "Loaded pretrained weights for efficientnet-b4\n"
          ],
          "name": "stdout"
        }
      ]
    },
    {
      "cell_type": "code",
      "metadata": {
        "id": "SzDB1E4PkdmQ",
        "colab_type": "code",
        "outputId": "882c482f-ebad-4f27-b69f-ea6ea28a0caa",
        "colab": {
          "base_uri": "https://localhost:8080/",
          "height": 17
        }
      },
      "source": [
        "preds = get_preds('effnet4_E0P1')\n",
        "ALL_PREDS.append(preds)"
      ],
      "execution_count": 0,
      "outputs": [
        {
          "output_type": "display_data",
          "data": {
            "text/html": [
              ""
            ],
            "text/plain": [
              "<IPython.core.display.HTML object>"
            ]
          },
          "metadata": {
            "tags": []
          }
        },
        {
          "output_type": "display_data",
          "data": {
            "text/html": [
              ""
            ],
            "text/plain": [
              "<IPython.core.display.HTML object>"
            ]
          },
          "metadata": {
            "tags": []
          }
        }
      ]
    },
    {
      "cell_type": "code",
      "metadata": {
        "id": "N6MeRllDkbdJ",
        "colab_type": "code",
        "outputId": "bb327b8b-ae0a-4a2b-c79e-12943de205f6",
        "colab": {
          "base_uri": "https://localhost:8080/",
          "height": 119,
          "referenced_widgets": [
            "dcbea4143b4e4e1c9b37fcd893d11ba1",
            "cab0cedee26d43d392627e3c617a1398",
            "773ab368bf2542c1ba06f40982cd9135",
            "6049f3a1973e4547be66109c10fd76d2",
            "f0ad5314816f489e925aad5fd9c4777a",
            "9bbfcd4f98354feca31d72dd7b711051",
            "bf3e1efaf20f45d5b63d70e085a3bc65",
            "cbeb36feb1e743b6a196c35815511ed3"
          ]
        }
      },
      "source": [
        "## B5 model\n",
        "fix_seed(RANDOM_STATE)\n",
        "model = EfficientNet.from_pretrained('efficientnet-b5',num_classes=2) \n",
        "learn = Learner(data, model,\n",
        "                loss_func=nn.CrossEntropyLoss(weight=weights),\n",
        "                metrics=[accuracy],\n",
        "                callback_fns=[BnFreeze]\n",
        "               )\n",
        "learn.split( lambda m: (model._conv_head,) )\n",
        "learn.data.add_test(ImageList.from_folder(path='data/test/'))\n",
        "learn.model_dir = MODEL_DIR"
      ],
      "execution_count": 0,
      "outputs": [
        {
          "output_type": "stream",
          "text": [
            "Downloading: \"https://github.com/lukemelas/EfficientNet-PyTorch/releases/download/1.0/efficientnet-b5-b6417697.pth\" to /root/.cache/torch/checkpoints/efficientnet-b5-b6417697.pth\n"
          ],
          "name": "stderr"
        },
        {
          "output_type": "display_data",
          "data": {
            "application/vnd.jupyter.widget-view+json": {
              "model_id": "dcbea4143b4e4e1c9b37fcd893d11ba1",
              "version_minor": 0,
              "version_major": 2
            },
            "text/plain": [
              "HBox(children=(FloatProgress(value=0.0, max=122410125.0), HTML(value='')))"
            ]
          },
          "metadata": {
            "tags": []
          }
        },
        {
          "output_type": "stream",
          "text": [
            "\n",
            "Loaded pretrained weights for efficientnet-b5\n"
          ],
          "name": "stdout"
        }
      ]
    },
    {
      "cell_type": "code",
      "metadata": {
        "id": "lL3HrM0Frb6K",
        "colab_type": "code",
        "outputId": "e0923b00-bb20-4823-e261-9b4fbeb1d5bb",
        "colab": {
          "base_uri": "https://localhost:8080/",
          "height": 17
        }
      },
      "source": [
        "preds = get_preds('effnet5_E0P1')\n",
        "ALL_PREDS.append(preds)"
      ],
      "execution_count": 0,
      "outputs": [
        {
          "output_type": "display_data",
          "data": {
            "text/html": [
              ""
            ],
            "text/plain": [
              "<IPython.core.display.HTML object>"
            ]
          },
          "metadata": {
            "tags": []
          }
        },
        {
          "output_type": "display_data",
          "data": {
            "text/html": [
              ""
            ],
            "text/plain": [
              "<IPython.core.display.HTML object>"
            ]
          },
          "metadata": {
            "tags": []
          }
        }
      ]
    },
    {
      "cell_type": "code",
      "metadata": {
        "id": "jUWDX9q_rmT1",
        "colab_type": "code",
        "outputId": "c68dfa6a-53bb-4188-e5a2-36ac10448676",
        "colab": {
          "base_uri": "https://localhost:8080/",
          "height": 17
        }
      },
      "source": [
        "preds = get_preds('effnet5_F1P1')\n",
        "ALL_PREDS.append(preds)"
      ],
      "execution_count": 0,
      "outputs": [
        {
          "output_type": "display_data",
          "data": {
            "text/html": [
              ""
            ],
            "text/plain": [
              "<IPython.core.display.HTML object>"
            ]
          },
          "metadata": {
            "tags": []
          }
        },
        {
          "output_type": "display_data",
          "data": {
            "text/html": [
              ""
            ],
            "text/plain": [
              "<IPython.core.display.HTML object>"
            ]
          },
          "metadata": {
            "tags": []
          }
        }
      ]
    },
    {
      "cell_type": "code",
      "metadata": {
        "id": "TO29JilOsJ0C",
        "colab_type": "code",
        "outputId": "06af9364-dbe3-4c8f-ba2c-44106f2e0e46",
        "colab": {
          "base_uri": "https://localhost:8080/",
          "height": 17
        }
      },
      "source": [
        "preds = get_preds('effnet5_F2P1')\n",
        "ALL_PREDS.append(preds)"
      ],
      "execution_count": 0,
      "outputs": [
        {
          "output_type": "display_data",
          "data": {
            "text/html": [
              ""
            ],
            "text/plain": [
              "<IPython.core.display.HTML object>"
            ]
          },
          "metadata": {
            "tags": []
          }
        },
        {
          "output_type": "display_data",
          "data": {
            "text/html": [
              ""
            ],
            "text/plain": [
              "<IPython.core.display.HTML object>"
            ]
          },
          "metadata": {
            "tags": []
          }
        }
      ]
    },
    {
      "cell_type": "code",
      "metadata": {
        "id": "vkFVt4QOsLHO",
        "colab_type": "code",
        "outputId": "057521a9-19e2-4dd7-98f3-98b3474daafa",
        "colab": {
          "base_uri": "https://localhost:8080/",
          "height": 17
        }
      },
      "source": [
        "preds = get_preds('effnet5_F3P1')\n",
        "ALL_PREDS.append(preds)"
      ],
      "execution_count": 0,
      "outputs": [
        {
          "output_type": "display_data",
          "data": {
            "text/html": [
              ""
            ],
            "text/plain": [
              "<IPython.core.display.HTML object>"
            ]
          },
          "metadata": {
            "tags": []
          }
        },
        {
          "output_type": "display_data",
          "data": {
            "text/html": [
              ""
            ],
            "text/plain": [
              "<IPython.core.display.HTML object>"
            ]
          },
          "metadata": {
            "tags": []
          }
        }
      ]
    },
    {
      "cell_type": "code",
      "metadata": {
        "id": "ElOknh22sMGi",
        "colab_type": "code",
        "outputId": "d1628bf4-a276-40e9-93ea-35612a91e768",
        "colab": {
          "base_uri": "https://localhost:8080/",
          "height": 17
        }
      },
      "source": [
        "preds = get_preds('effnet5_F4P1')\n",
        "ALL_PREDS.append(preds)"
      ],
      "execution_count": 0,
      "outputs": [
        {
          "output_type": "display_data",
          "data": {
            "text/html": [
              ""
            ],
            "text/plain": [
              "<IPython.core.display.HTML object>"
            ]
          },
          "metadata": {
            "tags": []
          }
        },
        {
          "output_type": "display_data",
          "data": {
            "text/html": [
              ""
            ],
            "text/plain": [
              "<IPython.core.display.HTML object>"
            ]
          },
          "metadata": {
            "tags": []
          }
        }
      ]
    },
    {
      "cell_type": "code",
      "metadata": {
        "id": "M_zA_ekSsR_e",
        "colab_type": "code",
        "outputId": "1b83ee76-8f93-4f73-e3da-c061304e7389",
        "colab": {
          "base_uri": "https://localhost:8080/",
          "height": 34
        }
      },
      "source": [
        "## B5 cutmix model\n",
        "fix_seed(RANDOM_STATE)\n",
        "model = EfficientNet.from_pretrained('efficientnet-b5',num_classes=2) \n",
        "learn = Learner(data_cmix, model,\n",
        "                loss_func=nn.CrossEntropyLoss(weight=weights),\n",
        "                metrics=[accuracy],\n",
        "                callback_fns=[BnFreeze]\n",
        "               ).cutmix()\n",
        "learn.split( lambda m: (model._conv_head,) )\n",
        "learn.data.add_test(ImageList.from_folder(path='data/test/'))\n",
        "learn.model_dir = MODEL_DIR"
      ],
      "execution_count": 0,
      "outputs": [
        {
          "output_type": "stream",
          "text": [
            "Loaded pretrained weights for efficientnet-b5\n"
          ],
          "name": "stdout"
        }
      ]
    },
    {
      "cell_type": "code",
      "metadata": {
        "id": "iv0sdc73rmXn",
        "colab_type": "code",
        "outputId": "3c5226bc-9ab5-4f7f-bacf-c3a5ebc0c852",
        "colab": {
          "base_uri": "https://localhost:8080/",
          "height": 17
        }
      },
      "source": [
        "preds = get_preds('effnet5_cmix_F0P1')\n",
        "ALL_PREDS.append(preds)"
      ],
      "execution_count": 0,
      "outputs": [
        {
          "output_type": "display_data",
          "data": {
            "text/html": [
              ""
            ],
            "text/plain": [
              "<IPython.core.display.HTML object>"
            ]
          },
          "metadata": {
            "tags": []
          }
        },
        {
          "output_type": "display_data",
          "data": {
            "text/html": [
              ""
            ],
            "text/plain": [
              "<IPython.core.display.HTML object>"
            ]
          },
          "metadata": {
            "tags": []
          }
        }
      ]
    },
    {
      "cell_type": "markdown",
      "metadata": {
        "id": "rNX34Ffd3Q4z",
        "colab_type": "text"
      },
      "source": [
        "### Submission"
      ]
    },
    {
      "cell_type": "code",
      "metadata": {
        "id": "ebw2eRDX1Kx5",
        "colab_type": "code",
        "colab": {}
      },
      "source": [
        "WEIGHTS = [0.149412, 0.150477, 0.135532, 0.140804, 0.142985, 0.134682, 0.146108] \n",
        "WEIGHTED_PREDS = []\n",
        "for i in range(len(ALL_PREDS)):\n",
        "  WEIGHTED_PREDS.append(ALL_PREDS[i]*WEIGHTS[i])"
      ],
      "execution_count": 0,
      "outputs": []
    },
    {
      "cell_type": "code",
      "metadata": {
        "id": "r2GcnawU1Tqf",
        "colab_type": "code",
        "outputId": "1632c831-0bfc-40bf-afa6-a2026ffe3e9c",
        "colab": {
          "base_uri": "https://localhost:8080/",
          "height": 34
        }
      },
      "source": [
        "preds = np.asarray(WEIGHTED_PREDS)\n",
        "preds = preds.sum(axis=0)\n",
        "preds.shape"
      ],
      "execution_count": 0,
      "outputs": [
        {
          "output_type": "execute_result",
          "data": {
            "text/plain": [
              "(2613,)"
            ]
          },
          "metadata": {
            "tags": []
          },
          "execution_count": 28
        }
      ]
    },
    {
      "cell_type": "code",
      "metadata": {
        "colab_type": "code",
        "id": "Vwlf7ccUMMSS",
        "outputId": "f1d67761-7016-4472-abe1-dd2f22664bf4",
        "colab": {
          "base_uri": "https://localhost:8080/",
          "height": 195
        }
      },
      "source": [
        "df_submission = pd.DataFrame()\n",
        "df_submission['ID'] = [s.split('.')[0] for s in os.listdir(f'{DATA_DIR}/test')]\n",
        "df_submission['Label'] = preds\n",
        "df_submission.head()"
      ],
      "execution_count": 0,
      "outputs": [
        {
          "output_type": "execute_result",
          "data": {
            "text/html": [
              "<div>\n",
              "<style scoped>\n",
              "    .dataframe tbody tr th:only-of-type {\n",
              "        vertical-align: middle;\n",
              "    }\n",
              "\n",
              "    .dataframe tbody tr th {\n",
              "        vertical-align: top;\n",
              "    }\n",
              "\n",
              "    .dataframe thead th {\n",
              "        text-align: right;\n",
              "    }\n",
              "</style>\n",
              "<table border=\"1\" class=\"dataframe\">\n",
              "  <thead>\n",
              "    <tr style=\"text-align: right;\">\n",
              "      <th></th>\n",
              "      <th>ID</th>\n",
              "      <th>Label</th>\n",
              "    </tr>\n",
              "  </thead>\n",
              "  <tbody>\n",
              "    <tr>\n",
              "      <th>0</th>\n",
              "      <td>MXG6CR6</td>\n",
              "      <td>0.180806</td>\n",
              "    </tr>\n",
              "    <tr>\n",
              "      <th>1</th>\n",
              "      <td>KST49H6</td>\n",
              "      <td>0.142675</td>\n",
              "    </tr>\n",
              "    <tr>\n",
              "      <th>2</th>\n",
              "      <td>AHIISOM</td>\n",
              "      <td>0.241601</td>\n",
              "    </tr>\n",
              "    <tr>\n",
              "      <th>3</th>\n",
              "      <td>9S0MQOK</td>\n",
              "      <td>0.205762</td>\n",
              "    </tr>\n",
              "    <tr>\n",
              "      <th>4</th>\n",
              "      <td>X0B7JYR</td>\n",
              "      <td>0.281761</td>\n",
              "    </tr>\n",
              "  </tbody>\n",
              "</table>\n",
              "</div>"
            ],
            "text/plain": [
              "        ID     Label\n",
              "0  MXG6CR6  0.180806\n",
              "1  KST49H6  0.142675\n",
              "2  AHIISOM  0.241601\n",
              "3  9S0MQOK  0.205762\n",
              "4  X0B7JYR  0.281761"
            ]
          },
          "metadata": {
            "tags": []
          },
          "execution_count": 29
        }
      ]
    },
    {
      "cell_type": "code",
      "metadata": {
        "id": "2OVo0mWmInxo",
        "colab_type": "code",
        "outputId": "d75bae95-0584-4ce3-b258-93b942373deb",
        "colab": {
          "base_uri": "https://localhost:8080/",
          "height": 34
        }
      },
      "source": [
        "df_submission.Label.min(),df_submission.Label.max()"
      ],
      "execution_count": 0,
      "outputs": [
        {
          "output_type": "execute_result",
          "data": {
            "text/plain": [
              "(0.00029082587570883334, 0.9892255663871765)"
            ]
          },
          "metadata": {
            "tags": []
          },
          "execution_count": 30
        }
      ]
    },
    {
      "cell_type": "code",
      "metadata": {
        "id": "RpnIUVv16oMz",
        "colab_type": "code",
        "colab": {}
      },
      "source": [
        "df_submission.to_csv('ensemble_wtd.csv',index=False)"
      ],
      "execution_count": 0,
      "outputs": []
    }
  ]
}
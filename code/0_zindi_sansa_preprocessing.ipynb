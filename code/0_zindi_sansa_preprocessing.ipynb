{
  "nbformat": 4,
  "nbformat_minor": 0,
  "metadata": {
    "colab": {
      "name": "0_zindi_sansa_preprocessing.ipynb",
      "provenance": [],
      "collapsed_sections": [],
      "toc_visible": true
    },
    "kernelspec": {
      "name": "python3",
      "display_name": "Python 3"
    },
    "widgets": {
      "application/vnd.jupyter.widget-state+json": {
        "05c9611dcdb542389412d89cdbbefefe": {
          "model_module": "@jupyter-widgets/controls",
          "model_name": "HBoxModel",
          "state": {
            "_view_name": "HBoxView",
            "_dom_classes": [],
            "_model_name": "HBoxModel",
            "_view_module": "@jupyter-widgets/controls",
            "_model_module_version": "1.5.0",
            "_view_count": null,
            "_view_module_version": "1.5.0",
            "box_style": "",
            "layout": "IPY_MODEL_0e3a9b341eaa435290ab7219e0500605",
            "_model_module": "@jupyter-widgets/controls",
            "children": [
              "IPY_MODEL_772d64dd47ea4ff48db2ab145d01cee8",
              "IPY_MODEL_146e3ae369dc45d7808ba3f3e3243e95"
            ]
          }
        },
        "0e3a9b341eaa435290ab7219e0500605": {
          "model_module": "@jupyter-widgets/base",
          "model_name": "LayoutModel",
          "state": {
            "_view_name": "LayoutView",
            "grid_template_rows": null,
            "right": null,
            "justify_content": null,
            "_view_module": "@jupyter-widgets/base",
            "overflow": null,
            "_model_module_version": "1.2.0",
            "_view_count": null,
            "flex_flow": null,
            "width": null,
            "min_width": null,
            "border": null,
            "align_items": null,
            "bottom": null,
            "_model_module": "@jupyter-widgets/base",
            "top": null,
            "grid_column": null,
            "overflow_y": null,
            "overflow_x": null,
            "grid_auto_flow": null,
            "grid_area": null,
            "grid_template_columns": null,
            "flex": null,
            "_model_name": "LayoutModel",
            "justify_items": null,
            "grid_row": null,
            "max_height": null,
            "align_content": null,
            "visibility": null,
            "align_self": null,
            "height": null,
            "min_height": null,
            "padding": null,
            "grid_auto_rows": null,
            "grid_gap": null,
            "max_width": null,
            "order": null,
            "_view_module_version": "1.2.0",
            "grid_template_areas": null,
            "object_position": null,
            "object_fit": null,
            "grid_auto_columns": null,
            "margin": null,
            "display": null,
            "left": null
          }
        },
        "772d64dd47ea4ff48db2ab145d01cee8": {
          "model_module": "@jupyter-widgets/controls",
          "model_name": "FloatProgressModel",
          "state": {
            "_view_name": "ProgressView",
            "style": "IPY_MODEL_a3240655e0f448ce8c0babbbf6d841da",
            "_dom_classes": [],
            "description": "100%",
            "_model_name": "FloatProgressModel",
            "bar_style": "success",
            "max": 4281,
            "_view_module": "@jupyter-widgets/controls",
            "_model_module_version": "1.5.0",
            "value": 4281,
            "_view_count": null,
            "_view_module_version": "1.5.0",
            "orientation": "horizontal",
            "min": 0,
            "description_tooltip": null,
            "_model_module": "@jupyter-widgets/controls",
            "layout": "IPY_MODEL_2603602d5c404e529be633d86d3bc165"
          }
        },
        "146e3ae369dc45d7808ba3f3e3243e95": {
          "model_module": "@jupyter-widgets/controls",
          "model_name": "HTMLModel",
          "state": {
            "_view_name": "HTMLView",
            "style": "IPY_MODEL_b633d9b8b5d041f4aef7077871b16ff8",
            "_dom_classes": [],
            "description": "",
            "_model_name": "HTMLModel",
            "placeholder": "​",
            "_view_module": "@jupyter-widgets/controls",
            "_model_module_version": "1.5.0",
            "value": " 4281/4281 [06:05&lt;00:00, 11.70it/s]",
            "_view_count": null,
            "_view_module_version": "1.5.0",
            "description_tooltip": null,
            "_model_module": "@jupyter-widgets/controls",
            "layout": "IPY_MODEL_6396cebfdf2840faa265eb00284985dd"
          }
        },
        "a3240655e0f448ce8c0babbbf6d841da": {
          "model_module": "@jupyter-widgets/controls",
          "model_name": "ProgressStyleModel",
          "state": {
            "_view_name": "StyleView",
            "_model_name": "ProgressStyleModel",
            "description_width": "initial",
            "_view_module": "@jupyter-widgets/base",
            "_model_module_version": "1.5.0",
            "_view_count": null,
            "_view_module_version": "1.2.0",
            "bar_color": null,
            "_model_module": "@jupyter-widgets/controls"
          }
        },
        "2603602d5c404e529be633d86d3bc165": {
          "model_module": "@jupyter-widgets/base",
          "model_name": "LayoutModel",
          "state": {
            "_view_name": "LayoutView",
            "grid_template_rows": null,
            "right": null,
            "justify_content": null,
            "_view_module": "@jupyter-widgets/base",
            "overflow": null,
            "_model_module_version": "1.2.0",
            "_view_count": null,
            "flex_flow": null,
            "width": null,
            "min_width": null,
            "border": null,
            "align_items": null,
            "bottom": null,
            "_model_module": "@jupyter-widgets/base",
            "top": null,
            "grid_column": null,
            "overflow_y": null,
            "overflow_x": null,
            "grid_auto_flow": null,
            "grid_area": null,
            "grid_template_columns": null,
            "flex": null,
            "_model_name": "LayoutModel",
            "justify_items": null,
            "grid_row": null,
            "max_height": null,
            "align_content": null,
            "visibility": null,
            "align_self": null,
            "height": null,
            "min_height": null,
            "padding": null,
            "grid_auto_rows": null,
            "grid_gap": null,
            "max_width": null,
            "order": null,
            "_view_module_version": "1.2.0",
            "grid_template_areas": null,
            "object_position": null,
            "object_fit": null,
            "grid_auto_columns": null,
            "margin": null,
            "display": null,
            "left": null
          }
        },
        "b633d9b8b5d041f4aef7077871b16ff8": {
          "model_module": "@jupyter-widgets/controls",
          "model_name": "DescriptionStyleModel",
          "state": {
            "_view_name": "StyleView",
            "_model_name": "DescriptionStyleModel",
            "description_width": "",
            "_view_module": "@jupyter-widgets/base",
            "_model_module_version": "1.5.0",
            "_view_count": null,
            "_view_module_version": "1.2.0",
            "_model_module": "@jupyter-widgets/controls"
          }
        },
        "6396cebfdf2840faa265eb00284985dd": {
          "model_module": "@jupyter-widgets/base",
          "model_name": "LayoutModel",
          "state": {
            "_view_name": "LayoutView",
            "grid_template_rows": null,
            "right": null,
            "justify_content": null,
            "_view_module": "@jupyter-widgets/base",
            "overflow": null,
            "_model_module_version": "1.2.0",
            "_view_count": null,
            "flex_flow": null,
            "width": null,
            "min_width": null,
            "border": null,
            "align_items": null,
            "bottom": null,
            "_model_module": "@jupyter-widgets/base",
            "top": null,
            "grid_column": null,
            "overflow_y": null,
            "overflow_x": null,
            "grid_auto_flow": null,
            "grid_area": null,
            "grid_template_columns": null,
            "flex": null,
            "_model_name": "LayoutModel",
            "justify_items": null,
            "grid_row": null,
            "max_height": null,
            "align_content": null,
            "visibility": null,
            "align_self": null,
            "height": null,
            "min_height": null,
            "padding": null,
            "grid_auto_rows": null,
            "grid_gap": null,
            "max_width": null,
            "order": null,
            "_view_module_version": "1.2.0",
            "grid_template_areas": null,
            "object_position": null,
            "object_fit": null,
            "grid_auto_columns": null,
            "margin": null,
            "display": null,
            "left": null
          }
        },
        "fb390aa95ea64276a02d348d6e71f8fd": {
          "model_module": "@jupyter-widgets/controls",
          "model_name": "HBoxModel",
          "state": {
            "_view_name": "HBoxView",
            "_dom_classes": [],
            "_model_name": "HBoxModel",
            "_view_module": "@jupyter-widgets/controls",
            "_model_module_version": "1.5.0",
            "_view_count": null,
            "_view_module_version": "1.5.0",
            "box_style": "",
            "layout": "IPY_MODEL_dc7041e23fba41b0875b6c647a7cf92a",
            "_model_module": "@jupyter-widgets/controls",
            "children": [
              "IPY_MODEL_11c8301413664fe3a08d5e8b82e8354c",
              "IPY_MODEL_35dd365593fb4b74a8e6bff831955cd4"
            ]
          }
        },
        "dc7041e23fba41b0875b6c647a7cf92a": {
          "model_module": "@jupyter-widgets/base",
          "model_name": "LayoutModel",
          "state": {
            "_view_name": "LayoutView",
            "grid_template_rows": null,
            "right": null,
            "justify_content": null,
            "_view_module": "@jupyter-widgets/base",
            "overflow": null,
            "_model_module_version": "1.2.0",
            "_view_count": null,
            "flex_flow": null,
            "width": null,
            "min_width": null,
            "border": null,
            "align_items": null,
            "bottom": null,
            "_model_module": "@jupyter-widgets/base",
            "top": null,
            "grid_column": null,
            "overflow_y": null,
            "overflow_x": null,
            "grid_auto_flow": null,
            "grid_area": null,
            "grid_template_columns": null,
            "flex": null,
            "_model_name": "LayoutModel",
            "justify_items": null,
            "grid_row": null,
            "max_height": null,
            "align_content": null,
            "visibility": null,
            "align_self": null,
            "height": null,
            "min_height": null,
            "padding": null,
            "grid_auto_rows": null,
            "grid_gap": null,
            "max_width": null,
            "order": null,
            "_view_module_version": "1.2.0",
            "grid_template_areas": null,
            "object_position": null,
            "object_fit": null,
            "grid_auto_columns": null,
            "margin": null,
            "display": null,
            "left": null
          }
        },
        "11c8301413664fe3a08d5e8b82e8354c": {
          "model_module": "@jupyter-widgets/controls",
          "model_name": "FloatProgressModel",
          "state": {
            "_view_name": "ProgressView",
            "style": "IPY_MODEL_2670a82835eb4fe0b29480e4567db960",
            "_dom_classes": [],
            "description": "100%",
            "_model_name": "FloatProgressModel",
            "bar_style": "success",
            "max": 2613,
            "_view_module": "@jupyter-widgets/controls",
            "_model_module_version": "1.5.0",
            "value": 2613,
            "_view_count": null,
            "_view_module_version": "1.5.0",
            "orientation": "horizontal",
            "min": 0,
            "description_tooltip": null,
            "_model_module": "@jupyter-widgets/controls",
            "layout": "IPY_MODEL_9260174a08ae4036960ccd9175208f68"
          }
        },
        "35dd365593fb4b74a8e6bff831955cd4": {
          "model_module": "@jupyter-widgets/controls",
          "model_name": "HTMLModel",
          "state": {
            "_view_name": "HTMLView",
            "style": "IPY_MODEL_8d8117ea895e425b913d7ea564f7b374",
            "_dom_classes": [],
            "description": "",
            "_model_name": "HTMLModel",
            "placeholder": "​",
            "_view_module": "@jupyter-widgets/controls",
            "_model_module_version": "1.5.0",
            "value": " 2613/2613 [00:20&lt;00:00, 129.60it/s]",
            "_view_count": null,
            "_view_module_version": "1.5.0",
            "description_tooltip": null,
            "_model_module": "@jupyter-widgets/controls",
            "layout": "IPY_MODEL_3bbc103bf46e470ca343ef3638aa88b9"
          }
        },
        "2670a82835eb4fe0b29480e4567db960": {
          "model_module": "@jupyter-widgets/controls",
          "model_name": "ProgressStyleModel",
          "state": {
            "_view_name": "StyleView",
            "_model_name": "ProgressStyleModel",
            "description_width": "initial",
            "_view_module": "@jupyter-widgets/base",
            "_model_module_version": "1.5.0",
            "_view_count": null,
            "_view_module_version": "1.2.0",
            "bar_color": null,
            "_model_module": "@jupyter-widgets/controls"
          }
        },
        "9260174a08ae4036960ccd9175208f68": {
          "model_module": "@jupyter-widgets/base",
          "model_name": "LayoutModel",
          "state": {
            "_view_name": "LayoutView",
            "grid_template_rows": null,
            "right": null,
            "justify_content": null,
            "_view_module": "@jupyter-widgets/base",
            "overflow": null,
            "_model_module_version": "1.2.0",
            "_view_count": null,
            "flex_flow": null,
            "width": null,
            "min_width": null,
            "border": null,
            "align_items": null,
            "bottom": null,
            "_model_module": "@jupyter-widgets/base",
            "top": null,
            "grid_column": null,
            "overflow_y": null,
            "overflow_x": null,
            "grid_auto_flow": null,
            "grid_area": null,
            "grid_template_columns": null,
            "flex": null,
            "_model_name": "LayoutModel",
            "justify_items": null,
            "grid_row": null,
            "max_height": null,
            "align_content": null,
            "visibility": null,
            "align_self": null,
            "height": null,
            "min_height": null,
            "padding": null,
            "grid_auto_rows": null,
            "grid_gap": null,
            "max_width": null,
            "order": null,
            "_view_module_version": "1.2.0",
            "grid_template_areas": null,
            "object_position": null,
            "object_fit": null,
            "grid_auto_columns": null,
            "margin": null,
            "display": null,
            "left": null
          }
        },
        "8d8117ea895e425b913d7ea564f7b374": {
          "model_module": "@jupyter-widgets/controls",
          "model_name": "DescriptionStyleModel",
          "state": {
            "_view_name": "StyleView",
            "_model_name": "DescriptionStyleModel",
            "description_width": "",
            "_view_module": "@jupyter-widgets/base",
            "_model_module_version": "1.5.0",
            "_view_count": null,
            "_view_module_version": "1.2.0",
            "_model_module": "@jupyter-widgets/controls"
          }
        },
        "3bbc103bf46e470ca343ef3638aa88b9": {
          "model_module": "@jupyter-widgets/base",
          "model_name": "LayoutModel",
          "state": {
            "_view_name": "LayoutView",
            "grid_template_rows": null,
            "right": null,
            "justify_content": null,
            "_view_module": "@jupyter-widgets/base",
            "overflow": null,
            "_model_module_version": "1.2.0",
            "_view_count": null,
            "flex_flow": null,
            "width": null,
            "min_width": null,
            "border": null,
            "align_items": null,
            "bottom": null,
            "_model_module": "@jupyter-widgets/base",
            "top": null,
            "grid_column": null,
            "overflow_y": null,
            "overflow_x": null,
            "grid_auto_flow": null,
            "grid_area": null,
            "grid_template_columns": null,
            "flex": null,
            "_model_name": "LayoutModel",
            "justify_items": null,
            "grid_row": null,
            "max_height": null,
            "align_content": null,
            "visibility": null,
            "align_self": null,
            "height": null,
            "min_height": null,
            "padding": null,
            "grid_auto_rows": null,
            "grid_gap": null,
            "max_width": null,
            "order": null,
            "_view_module_version": "1.2.0",
            "grid_template_areas": null,
            "object_position": null,
            "object_fit": null,
            "grid_auto_columns": null,
            "margin": null,
            "display": null,
            "left": null
          }
        }
      }
    }
  },
  "cells": [
    {
      "cell_type": "code",
      "metadata": {
        "id": "Ej-S8seKkA9E",
        "colab_type": "code",
        "colab": {}
      },
      "source": [
        "## Extracts train and test images from 2528C.tif and 2930D.tif"
      ],
      "execution_count": 0,
      "outputs": []
    },
    {
      "cell_type": "code",
      "metadata": {
        "id": "Z1w7MCm6Tk8r",
        "colab_type": "code",
        "colab": {}
      },
      "source": [
        "## OPTIONAL - download data\n",
        "# !aws s3 cp s3://eohackathon-covid19/Hackthon_Data/Gauteng/2528C.tif data/\n",
        "# !aws s3 cp 's3://eohackathon-covid19/Hackthon_Data/Kwazulu Natal/2930D.tif' data/"
      ],
      "execution_count": 0,
      "outputs": []
    },
    {
      "cell_type": "markdown",
      "metadata": {
        "id": "z5CRzcm396zW",
        "colab_type": "text"
      },
      "source": [
        "##### Imports"
      ]
    },
    {
      "cell_type": "code",
      "metadata": {
        "id": "9UO1JpT07g_Y",
        "colab_type": "code",
        "colab": {}
      },
      "source": [
        "import sys, os, random                                                                                                                                                      \n",
        "import numpy as np, pandas as pd   \n",
        "import rasterio\n",
        "from PIL import Image"
      ],
      "execution_count": 0,
      "outputs": []
    },
    {
      "cell_type": "code",
      "metadata": {
        "id": "lA761_Ik-aS7",
        "colab_type": "code",
        "colab": {}
      },
      "source": [
        "RANDOM_STATE = 41\n",
        "def fix_seed(seed=0):\n",
        "    random.seed(seed)\n",
        "    os.environ['PYTHONHASHSEED'] = str(seed)\n",
        "    np.random.seed(seed)\n",
        "fix_seed(RANDOM_STATE)"
      ],
      "execution_count": 0,
      "outputs": []
    },
    {
      "cell_type": "code",
      "metadata": {
        "id": "01V8hcC3-lFo",
        "colab_type": "code",
        "colab": {}
      },
      "source": [
        "##./data should contain:\n",
        "#2528C.tif\n",
        "#2930D.tif\n",
        "#Train.csv\n",
        "#Test.csv\n",
        "DATA_DIR = 'data/'\n",
        "\n",
        "df_train = pd.read_csv(f'{DATA_DIR}/Train.csv')\n",
        "df_test = pd.read_csv(f'{DATA_DIR}/Test.csv')"
      ],
      "execution_count": 0,
      "outputs": []
    },
    {
      "cell_type": "code",
      "metadata": {
        "id": "7rvODRMN-5Bl",
        "colab_type": "code",
        "colab": {}
      },
      "source": [
        "ds_train = rasterio.open(f'{DATA_DIR}/2528C.tif')"
      ],
      "execution_count": 0,
      "outputs": []
    },
    {
      "cell_type": "code",
      "metadata": {
        "id": "yhk1xN2FDX8T",
        "colab_type": "code",
        "outputId": "b5ba45a7-1916-4e2f-c2b1-f8ae85ce69b0",
        "colab": {
          "base_uri": "https://localhost:8080/",
          "height": 34
        }
      },
      "source": [
        "band_names = ds_train.descriptions\n",
        "n_bands = ds_train.count\n",
        "band_names, n_bands"
      ],
      "execution_count": 0,
      "outputs": [
        {
          "output_type": "execute_result",
          "data": {
            "text/plain": [
              "((None, None, None), 3)"
            ]
          },
          "metadata": {
            "tags": []
          },
          "execution_count": 13
        }
      ]
    },
    {
      "cell_type": "markdown",
      "metadata": {
        "id": "DVH02xapHw6u",
        "colab_type": "text"
      },
      "source": [
        "#### Extract images"
      ]
    },
    {
      "cell_type": "code",
      "metadata": {
        "id": "3D3h_oWz2LNP",
        "colab_type": "code",
        "colab": {}
      },
      "source": [
        "sz=200 ##image size\n",
        "# 200*1.5 m/px=300m2"
      ],
      "execution_count": 0,
      "outputs": []
    },
    {
      "cell_type": "code",
      "metadata": {
        "id": "wP39xqhcIFzD",
        "colab_type": "code",
        "outputId": "edd394e3-901e-4336-add1-7452adfabd95",
        "colab": {
          "base_uri": "https://localhost:8080/",
          "height": 66,
          "referenced_widgets": [
            "05c9611dcdb542389412d89cdbbefefe",
            "0e3a9b341eaa435290ab7219e0500605",
            "772d64dd47ea4ff48db2ab145d01cee8",
            "146e3ae369dc45d7808ba3f3e3243e95",
            "a3240655e0f448ce8c0babbbf6d841da",
            "2603602d5c404e529be633d86d3bc165",
            "b633d9b8b5d041f4aef7077871b16ff8",
            "6396cebfdf2840faa265eb00284985dd"
          ]
        }
      },
      "source": [
        "#process train\n",
        "os.makedirs(f'{DATA_DIR}/train',exist_ok=False)\n",
        "# Load bands into RAM\n",
        "red, green, blue = ds_train.read(1), ds_train.read(2), ds_train.read(3)\n",
        "\n",
        "for _,sample in df_train.iterrows():\n",
        "    ID, lat, lon, label = sample\n",
        "\n",
        "    # Blank image\n",
        "    im = np.zeros((sz,sz,3), np.uint8)\n",
        "\n",
        "    # Get pixel coords\n",
        "    row, col = ds_train.index(lon, lat)\n",
        "    \n",
        "    # Add image data\n",
        "    for i, band in enumerate([red, green, blue]):\n",
        "        im[:,:,i] = band[row-sz//2:row+sz//2, col-sz//2:col+sz//2]\n",
        "  \n",
        "    # Save image\n",
        "    im = Image.fromarray(im)\n",
        "    pth = f'{DATA_DIR}/train/'\n",
        "    im.save(f'{pth}{ID}.jpg')"
      ],
      "execution_count": 0,
      "outputs": [
        {
          "output_type": "display_data",
          "data": {
            "application/vnd.jupyter.widget-view+json": {
              "model_id": "05c9611dcdb542389412d89cdbbefefe",
              "version_minor": 0,
              "version_major": 2
            },
            "text/plain": [
              "HBox(children=(FloatProgress(value=0.0, max=4281.0), HTML(value='')))"
            ]
          },
          "metadata": {
            "tags": []
          }
        },
        {
          "output_type": "stream",
          "text": [
            "\n"
          ],
          "name": "stdout"
        }
      ]
    },
    {
      "cell_type": "code",
      "metadata": {
        "id": "8ZId8uZsPU7w",
        "colab_type": "code",
        "outputId": "a93864b5-db28-4b68-f1ba-eb0656a9ef85",
        "colab": {
          "base_uri": "https://localhost:8080/",
          "height": 34
        }
      },
      "source": [
        "# !ls -1 data/train | wc -l"
      ],
      "execution_count": 0,
      "outputs": [
        {
          "output_type": "stream",
          "text": [
            "4281\n"
          ],
          "name": "stdout"
        }
      ]
    },
    {
      "cell_type": "code",
      "metadata": {
        "id": "V5Mrwn3zPJw7",
        "colab_type": "code",
        "colab": {}
      },
      "source": [
        "ds_test = rasterio.open(f'{DATA_DIR}/2930D.tif')"
      ],
      "execution_count": 0,
      "outputs": []
    },
    {
      "cell_type": "code",
      "metadata": {
        "id": "uE18fcu7M8Xf",
        "colab_type": "code",
        "outputId": "dfd3dd6e-6f70-4aec-f4e4-a38002aa182b",
        "colab": {
          "base_uri": "https://localhost:8080/",
          "height": 66,
          "referenced_widgets": [
            "fb390aa95ea64276a02d348d6e71f8fd",
            "dc7041e23fba41b0875b6c647a7cf92a",
            "11c8301413664fe3a08d5e8b82e8354c",
            "35dd365593fb4b74a8e6bff831955cd4",
            "2670a82835eb4fe0b29480e4567db960",
            "9260174a08ae4036960ccd9175208f68",
            "8d8117ea895e425b913d7ea564f7b374",
            "3bbc103bf46e470ca343ef3638aa88b9"
          ]
        }
      },
      "source": [
        "# process test\n",
        "os.makedirs(f'{DATA_DIR}/test/',exist_ok=False)\n",
        "red, green, blue = ds_test.read(1), ds_test.read(2), ds_test.read(3)\n",
        "\n",
        "for _,sample in df_test.iterrows():\n",
        "    ID, lat, lon = sample\n",
        "    # Blank image\n",
        "    im = np.zeros((sz,sz,3), np.uint8)\n",
        "    \n",
        "    # Get pixel coords\n",
        "    row, col = ds_test.index(lon, lat)\n",
        "    \n",
        "    # Add image data\n",
        "    for i, band in enumerate([red, green, blue]):\n",
        "        im[:,:,i] = band[row-sz//2:row+sz//2, col-sz//2:col+sz//2]\n",
        "  \n",
        "    # Save image\n",
        "    im = Image.fromarray(im)\n",
        "    pth = f'{DATA_DIR}/test/'\n",
        "    im.save(f'{pth}{ID}.jpg')"
      ],
      "execution_count": 0,
      "outputs": [
        {
          "output_type": "display_data",
          "data": {
            "application/vnd.jupyter.widget-view+json": {
              "model_id": "fb390aa95ea64276a02d348d6e71f8fd",
              "version_minor": 0,
              "version_major": 2
            },
            "text/plain": [
              "HBox(children=(FloatProgress(value=0.0, max=2613.0), HTML(value='')))"
            ]
          },
          "metadata": {
            "tags": []
          }
        },
        {
          "output_type": "stream",
          "text": [
            "\n"
          ],
          "name": "stdout"
        }
      ]
    }
  ]
}
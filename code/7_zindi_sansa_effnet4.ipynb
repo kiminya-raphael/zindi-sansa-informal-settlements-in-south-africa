{
  "nbformat": 4,
  "nbformat_minor": 0,
  "metadata": {
    "colab": {
      "name": "7_zindi_sansa_effnet4.ipynb",
      "provenance": [],
      "collapsed_sections": [],
      "toc_visible": true
    },
    "kernelspec": {
      "name": "python3",
      "display_name": "Python 3"
    },
    "accelerator": "GPU",
    "widgets": {
      "application/vnd.jupyter.widget-state+json": {
        "998ec8babacd4c7780a82364c96dbc8f": {
          "model_module": "@jupyter-widgets/controls",
          "model_name": "HBoxModel",
          "state": {
            "_view_name": "HBoxView",
            "_dom_classes": [],
            "_model_name": "HBoxModel",
            "_view_module": "@jupyter-widgets/controls",
            "_model_module_version": "1.5.0",
            "_view_count": null,
            "_view_module_version": "1.5.0",
            "box_style": "",
            "layout": "IPY_MODEL_c3f9189bf17f4bebb6d2a4e35e063fd4",
            "_model_module": "@jupyter-widgets/controls",
            "children": [
              "IPY_MODEL_1441602d2da14e78b284b7df1fb8d897",
              "IPY_MODEL_a08ccca5952f4e70a3fadeac9be36e24"
            ]
          }
        },
        "c3f9189bf17f4bebb6d2a4e35e063fd4": {
          "model_module": "@jupyter-widgets/base",
          "model_name": "LayoutModel",
          "state": {
            "_view_name": "LayoutView",
            "grid_template_rows": null,
            "right": null,
            "justify_content": null,
            "_view_module": "@jupyter-widgets/base",
            "overflow": null,
            "_model_module_version": "1.2.0",
            "_view_count": null,
            "flex_flow": null,
            "width": null,
            "min_width": null,
            "border": null,
            "align_items": null,
            "bottom": null,
            "_model_module": "@jupyter-widgets/base",
            "top": null,
            "grid_column": null,
            "overflow_y": null,
            "overflow_x": null,
            "grid_auto_flow": null,
            "grid_area": null,
            "grid_template_columns": null,
            "flex": null,
            "_model_name": "LayoutModel",
            "justify_items": null,
            "grid_row": null,
            "max_height": null,
            "align_content": null,
            "visibility": null,
            "align_self": null,
            "height": null,
            "min_height": null,
            "padding": null,
            "grid_auto_rows": null,
            "grid_gap": null,
            "max_width": null,
            "order": null,
            "_view_module_version": "1.2.0",
            "grid_template_areas": null,
            "object_position": null,
            "object_fit": null,
            "grid_auto_columns": null,
            "margin": null,
            "display": null,
            "left": null
          }
        },
        "1441602d2da14e78b284b7df1fb8d897": {
          "model_module": "@jupyter-widgets/controls",
          "model_name": "FloatProgressModel",
          "state": {
            "_view_name": "ProgressView",
            "style": "IPY_MODEL_49c60d1481bf46be9efec60a7adff4db",
            "_dom_classes": [],
            "description": "100%",
            "_model_name": "FloatProgressModel",
            "bar_style": "success",
            "max": 77999237,
            "_view_module": "@jupyter-widgets/controls",
            "_model_module_version": "1.5.0",
            "value": 77999237,
            "_view_count": null,
            "_view_module_version": "1.5.0",
            "orientation": "horizontal",
            "min": 0,
            "description_tooltip": null,
            "_model_module": "@jupyter-widgets/controls",
            "layout": "IPY_MODEL_f55bbc09fd2f4c6a81a5d2d74124998c"
          }
        },
        "a08ccca5952f4e70a3fadeac9be36e24": {
          "model_module": "@jupyter-widgets/controls",
          "model_name": "HTMLModel",
          "state": {
            "_view_name": "HTMLView",
            "style": "IPY_MODEL_5a79c21d1d0847cd8c63f25eca6120f4",
            "_dom_classes": [],
            "description": "",
            "_model_name": "HTMLModel",
            "placeholder": "​",
            "_view_module": "@jupyter-widgets/controls",
            "_model_module_version": "1.5.0",
            "value": " 74.4M/74.4M [00:01&lt;00:00, 68.8MB/s]",
            "_view_count": null,
            "_view_module_version": "1.5.0",
            "description_tooltip": null,
            "_model_module": "@jupyter-widgets/controls",
            "layout": "IPY_MODEL_7a83f2b861a2425aae9ee693718c7216"
          }
        },
        "49c60d1481bf46be9efec60a7adff4db": {
          "model_module": "@jupyter-widgets/controls",
          "model_name": "ProgressStyleModel",
          "state": {
            "_view_name": "StyleView",
            "_model_name": "ProgressStyleModel",
            "description_width": "initial",
            "_view_module": "@jupyter-widgets/base",
            "_model_module_version": "1.5.0",
            "_view_count": null,
            "_view_module_version": "1.2.0",
            "bar_color": null,
            "_model_module": "@jupyter-widgets/controls"
          }
        },
        "f55bbc09fd2f4c6a81a5d2d74124998c": {
          "model_module": "@jupyter-widgets/base",
          "model_name": "LayoutModel",
          "state": {
            "_view_name": "LayoutView",
            "grid_template_rows": null,
            "right": null,
            "justify_content": null,
            "_view_module": "@jupyter-widgets/base",
            "overflow": null,
            "_model_module_version": "1.2.0",
            "_view_count": null,
            "flex_flow": null,
            "width": null,
            "min_width": null,
            "border": null,
            "align_items": null,
            "bottom": null,
            "_model_module": "@jupyter-widgets/base",
            "top": null,
            "grid_column": null,
            "overflow_y": null,
            "overflow_x": null,
            "grid_auto_flow": null,
            "grid_area": null,
            "grid_template_columns": null,
            "flex": null,
            "_model_name": "LayoutModel",
            "justify_items": null,
            "grid_row": null,
            "max_height": null,
            "align_content": null,
            "visibility": null,
            "align_self": null,
            "height": null,
            "min_height": null,
            "padding": null,
            "grid_auto_rows": null,
            "grid_gap": null,
            "max_width": null,
            "order": null,
            "_view_module_version": "1.2.0",
            "grid_template_areas": null,
            "object_position": null,
            "object_fit": null,
            "grid_auto_columns": null,
            "margin": null,
            "display": null,
            "left": null
          }
        },
        "5a79c21d1d0847cd8c63f25eca6120f4": {
          "model_module": "@jupyter-widgets/controls",
          "model_name": "DescriptionStyleModel",
          "state": {
            "_view_name": "StyleView",
            "_model_name": "DescriptionStyleModel",
            "description_width": "",
            "_view_module": "@jupyter-widgets/base",
            "_model_module_version": "1.5.0",
            "_view_count": null,
            "_view_module_version": "1.2.0",
            "_model_module": "@jupyter-widgets/controls"
          }
        },
        "7a83f2b861a2425aae9ee693718c7216": {
          "model_module": "@jupyter-widgets/base",
          "model_name": "LayoutModel",
          "state": {
            "_view_name": "LayoutView",
            "grid_template_rows": null,
            "right": null,
            "justify_content": null,
            "_view_module": "@jupyter-widgets/base",
            "overflow": null,
            "_model_module_version": "1.2.0",
            "_view_count": null,
            "flex_flow": null,
            "width": null,
            "min_width": null,
            "border": null,
            "align_items": null,
            "bottom": null,
            "_model_module": "@jupyter-widgets/base",
            "top": null,
            "grid_column": null,
            "overflow_y": null,
            "overflow_x": null,
            "grid_auto_flow": null,
            "grid_area": null,
            "grid_template_columns": null,
            "flex": null,
            "_model_name": "LayoutModel",
            "justify_items": null,
            "grid_row": null,
            "max_height": null,
            "align_content": null,
            "visibility": null,
            "align_self": null,
            "height": null,
            "min_height": null,
            "padding": null,
            "grid_auto_rows": null,
            "grid_gap": null,
            "max_width": null,
            "order": null,
            "_view_module_version": "1.2.0",
            "grid_template_areas": null,
            "object_position": null,
            "object_fit": null,
            "grid_auto_columns": null,
            "margin": null,
            "display": null,
            "left": null
          }
        }
      }
    }
  },
  "cells": [
    {
      "cell_type": "code",
      "metadata": {
        "id": "ePkK-dWy_Gt9",
        "colab_type": "code",
        "colab": {}
      },
      "source": [
        "import pandas as pd, numpy as np\n",
        "import sys, os, cv2, random, shutil,time                                                                                                                                                      \n",
        "import PIL\n",
        "from fastai.vision import *\n",
        "from fastai.metrics import error_rate\n",
        "from fastai.callbacks import SaveModelCallback\n",
        "from sklearn.model_selection import KFold,StratifiedKFold\n",
        "\n",
        "import sklearn.metrics as skmetrics"
      ],
      "execution_count": 0,
      "outputs": []
    },
    {
      "cell_type": "code",
      "metadata": {
        "id": "-mmldGbpw7Px",
        "colab_type": "code",
        "outputId": "4371e1d2-7413-48e6-9786-5585554c8958",
        "colab": {
          "base_uri": "https://localhost:8080/",
          "height": 17
        }
      },
      "source": [
        "from fastai_extensions import *\n",
        "from efficientnet_pytorch import EfficientNet\n",
        "import albumentations as A"
      ],
      "execution_count": 0,
      "outputs": [
        {
          "output_type": "display_data",
          "data": {
            "text/html": [
              "<style>.container { width:100% !important; }</style>"
            ],
            "text/plain": [
              "<IPython.core.display.HTML object>"
            ]
          },
          "metadata": {
            "tags": []
          }
        },
        {
          "output_type": "display_data",
          "data": {
            "text/html": [
              "<style>.container { width:100% !important; }</style>"
            ],
            "text/plain": [
              "<IPython.core.display.HTML object>"
            ]
          },
          "metadata": {
            "tags": []
          }
        },
        {
          "output_type": "display_data",
          "data": {
            "text/html": [
              "<style>.container { width:100% !important; }</style>"
            ],
            "text/plain": [
              "<IPython.core.display.HTML object>"
            ]
          },
          "metadata": {
            "tags": []
          }
        }
      ]
    },
    {
      "cell_type": "code",
      "metadata": {
        "id": "d9bSWztExHOa",
        "colab_type": "code",
        "colab": {}
      },
      "source": [
        "RANDOM_STATE = 41\n",
        "def fix_seed(seed=0):\n",
        "    random.seed(seed)\n",
        "    os.environ['PYTHONHASHSEED'] = str(seed)\n",
        "    np.random.seed(seed)\n",
        "    torch.manual_seed(seed)\n",
        "    torch.cuda.manual_seed(seed)\n",
        "    torch.backends.cudnn.deterministic = True\n",
        "fix_seed(RANDOM_STATE)"
      ],
      "execution_count": 0,
      "outputs": []
    },
    {
      "cell_type": "code",
      "metadata": {
        "id": "pU9RNSHjTmfJ",
        "colab_type": "code",
        "colab": {}
      },
      "source": [
        "DATA_DIR = 'data/'\n",
        "df_train = pd.read_csv(f'{DATA_DIR}/Train.csv')\n",
        "df_test = pd.read_csv(f'{DATA_DIR}/Test.csv')\n",
        "MODEL_DIR = '../../models' #save models to current directory"
      ],
      "execution_count": 0,
      "outputs": []
    },
    {
      "cell_type": "code",
      "metadata": {
        "id": "v9QFbdThWKQw",
        "colab_type": "code",
        "colab": {}
      },
      "source": [
        "df_train['path']  = df_train['ID']+'.jpg'\n",
        "df_train['Label']  = df_train['Label'].astype(np.int8)"
      ],
      "execution_count": 0,
      "outputs": []
    },
    {
      "cell_type": "code",
      "metadata": {
        "id": "eh0nMqpfEhHk",
        "colab_type": "code",
        "colab": {}
      },
      "source": [
        "def tensor2np(x):\n",
        "    np_image = x.cpu().permute(1, 2, 0).numpy()\n",
        "    np_image = (np_image * 255).astype(np.uint8)\n",
        "    \n",
        "    return np_image\n",
        "\n",
        "def alb_tfm2fastai(alb_tfm):\n",
        "    def _alb_transformer(x):\n",
        "        # tensor to numpy\n",
        "        np_image = tensor2np(x)\n",
        "\n",
        "        # apply albumentations\n",
        "        transformed = alb_tfm(image=np_image)['image']\n",
        "\n",
        "        # back to tensor\n",
        "        tensor_image = pil2tensor(transformed, np.float32)\n",
        "        tensor_image.div_(255)\n",
        "\n",
        "        return tensor_image\n",
        "\n",
        "    transformer = TfmPixel(_alb_transformer)\n",
        "    \n",
        "    return transformer()"
      ],
      "execution_count": 0,
      "outputs": []
    },
    {
      "cell_type": "code",
      "metadata": {
        "id": "IzYSxRu5E_O3",
        "colab_type": "code",
        "colab": {}
      },
      "source": [
        "def get_augs(p=1.0):\n",
        "    return A.Compose([\n",
        "        A.HorizontalFlip(p=0.5),\n",
        "        A.RandomRotate90(p=1.0),\n",
        "        A.RGBShift(p=0.1, r_shift_limit=(-5, 5), g_shift_limit=(-5, 5), b_shift_limit=(-5, 5)),\n",
        "        A.ShiftScaleRotate(shift_limit=0.1, scale_limit=0.1, rotate_limit=45, p=0.1, border_mode=cv2.BORDER_REFLECT),\n",
        "        A.OneOf([\n",
        "            A.MedianBlur(p=1.0, blur_limit=7),\n",
        "            A.Blur(p=1.0, blur_limit= 7),\n",
        "            A.GaussianBlur(p=1.0, blur_limit=7),\n",
        "        ], p=0.05),\n",
        "        A.OneOf([\n",
        "            A.ElasticTransform(p=1.0, alpha=1.0, sigma=30, alpha_affine=20),\n",
        "            A.GridDistortion(p=1.0, num_steps=5, distort_limit=0.1),\n",
        "            A.OpticalDistortion(p=1.0, distort_limit=0.1, shift_limit=0.5)\n",
        "        ], p=0.1)\n",
        "    ],  p=p)\n"
      ],
      "execution_count": 0,
      "outputs": []
    },
    {
      "cell_type": "code",
      "metadata": {
        "id": "YLYUDY7BFJre",
        "colab_type": "code",
        "colab": {}
      },
      "source": [
        "size=200\n",
        "bs = 16\n",
        "path = Path('data/train')\n",
        "\n",
        "alb_tfms = alb_tfm2fastai(get_augs())\n",
        "tfms = get_transforms(do_flip=False,\n",
        "                      flip_vert=False,\n",
        "                      max_lighting=0.,\n",
        "                      max_rotate=0.,\n",
        "                      xtra_tfms=alb_tfms)"
      ],
      "execution_count": 0,
      "outputs": []
    },
    {
      "cell_type": "code",
      "metadata": {
        "id": "7H0AgrnxR8e_",
        "colab_type": "code",
        "colab": {}
      },
      "source": [
        "n_splits=5\n",
        "base_model_name = 'effnet4_'\n",
        "df_oof = df_train.copy()\n",
        "y_valid_preds=[]; y_test_preds = []\n",
        "kfold = StratifiedKFold(n_splits=n_splits, random_state=RANDOM_STATE, shuffle=True)\n",
        "# kfold = KFold(n_splits=n_splits, random_state=RANDOM_STATE, shuffle=True)\n",
        "for i, (ix_train, ix_val) in enumerate(kfold.split(X=df_train, y=df_train.Label)):\n",
        "  fix_seed(RANDOM_STATE)\n",
        "\n",
        "  model_name = base_model_name+'E'+str(i)\n",
        "  train = df_train.iloc[ix_train]\n",
        "  val = df_train.iloc[ix_val]\n",
        "  data = (ImageList.from_df(path=path,df=df_train[['path','Label']])\n",
        "        .split_by_idxs(ix_train, ix_val)\n",
        "        .label_from_df()\n",
        "        .transform(tfms,size=size)\n",
        "        .databunch(bs=bs, num_workers=4)\n",
        "        .normalize(imagenet_stats))\n",
        "  break"
      ],
      "execution_count": 0,
      "outputs": []
    },
    {
      "cell_type": "code",
      "metadata": {
        "id": "tRHwb9fKe7_I",
        "colab_type": "code",
        "outputId": "e78c443e-79c2-45a0-e9bc-156950742dd9",
        "colab": {
          "base_uri": "https://localhost:8080/",
          "height": 34
        }
      },
      "source": [
        "pos = np.sum(df_train.Label)\n",
        "neg = df_train.shape[0] - pos\n",
        "weights = torch.FloatTensor([1, neg / pos])\n",
        "weights = weights.to(device)\n",
        "weights"
      ],
      "execution_count": 0,
      "outputs": [
        {
          "output_type": "execute_result",
          "data": {
            "text/plain": [
              "tensor([1.0000, 2.9132], device='cuda:0')"
            ]
          },
          "metadata": {
            "tags": []
          },
          "execution_count": 15
        }
      ]
    },
    {
      "cell_type": "code",
      "metadata": {
        "id": "0GyCIR5XJWVm",
        "colab_type": "code",
        "outputId": "4d051762-c4c3-4e6c-ab37-74a8305c126c",
        "colab": {
          "base_uri": "https://localhost:8080/",
          "height": 119,
          "referenced_widgets": [
            "998ec8babacd4c7780a82364c96dbc8f",
            "c3f9189bf17f4bebb6d2a4e35e063fd4",
            "1441602d2da14e78b284b7df1fb8d897",
            "a08ccca5952f4e70a3fadeac9be36e24",
            "49c60d1481bf46be9efec60a7adff4db",
            "f55bbc09fd2f4c6a81a5d2d74124998c",
            "5a79c21d1d0847cd8c63f25eca6120f4",
            "7a83f2b861a2425aae9ee693718c7216"
          ]
        }
      },
      "source": [
        "fix_seed(RANDOM_STATE)\n",
        "model = EfficientNet.from_pretrained('efficientnet-b4',num_classes=2) \n",
        "learn = Learner(data, model,\n",
        "                loss_func=nn.CrossEntropyLoss(weight=weights),\n",
        "                metrics=[accuracy],\n",
        "                callback_fns=[BnFreeze]\n",
        "               )\n",
        "learn.split( lambda m: (model._conv_head,) )\n",
        "learn.model_dir = MODEL_DIR"
      ],
      "execution_count": 0,
      "outputs": [
        {
          "output_type": "stream",
          "text": [
            "Downloading: \"https://github.com/lukemelas/EfficientNet-PyTorch/releases/download/1.0/efficientnet-b4-6ed6700e.pth\" to /root/.cache/torch/checkpoints/efficientnet-b4-6ed6700e.pth\n"
          ],
          "name": "stderr"
        },
        {
          "output_type": "display_data",
          "data": {
            "application/vnd.jupyter.widget-view+json": {
              "model_id": "998ec8babacd4c7780a82364c96dbc8f",
              "version_minor": 0,
              "version_major": 2
            },
            "text/plain": [
              "HBox(children=(FloatProgress(value=0.0, max=77999237.0), HTML(value='')))"
            ]
          },
          "metadata": {
            "tags": []
          }
        },
        {
          "output_type": "stream",
          "text": [
            "\n",
            "Loaded pretrained weights for efficientnet-b4\n"
          ],
          "name": "stdout"
        }
      ]
    },
    {
      "cell_type": "code",
      "metadata": {
        "id": "MaI-hlwdJZh0",
        "colab_type": "code",
        "outputId": "2911a631-0b30-47fc-9e0c-f70c7ed09ea5",
        "colab": {
          "base_uri": "https://localhost:8080/",
          "height": 406
        }
      },
      "source": [
        "fix_seed(RANDOM_STATE)\n",
        "learn.freeze()\n",
        "learn.lr_find(start_lr=1e-5, end_lr=1e-1, wd=5e-3)\n",
        "learn.recorder.plot(suggestion=True)"
      ],
      "execution_count": 0,
      "outputs": [
        {
          "output_type": "display_data",
          "data": {
            "text/html": [
              "\n",
              "    <div>\n",
              "        <style>\n",
              "            /* Turns off some styling */\n",
              "            progress {\n",
              "                /* gets rid of default border in Firefox and Opera. */\n",
              "                border: none;\n",
              "                /* Needs to be in here for Safari polyfill so background images work as expected. */\n",
              "                background-size: auto;\n",
              "            }\n",
              "            .progress-bar-interrupted, .progress-bar-interrupted::-webkit-progress-bar {\n",
              "                background: #F44336;\n",
              "            }\n",
              "        </style>\n",
              "      <progress value='0' class='' max='1' style='width:300px; height:20px; vertical-align: middle;'></progress>\n",
              "      0.00% [0/1 00:00<00:00]\n",
              "    </div>\n",
              "    \n",
              "<table border=\"1\" class=\"dataframe\">\n",
              "  <thead>\n",
              "    <tr style=\"text-align: left;\">\n",
              "      <th>epoch</th>\n",
              "      <th>train_loss</th>\n",
              "      <th>valid_loss</th>\n",
              "      <th>accuracy</th>\n",
              "      <th>time</th>\n",
              "    </tr>\n",
              "  </thead>\n",
              "  <tbody>\n",
              "  </tbody>\n",
              "</table><p>\n",
              "\n",
              "    <div>\n",
              "        <style>\n",
              "            /* Turns off some styling */\n",
              "            progress {\n",
              "                /* gets rid of default border in Firefox and Opera. */\n",
              "                border: none;\n",
              "                /* Needs to be in here for Safari polyfill so background images work as expected. */\n",
              "                background-size: auto;\n",
              "            }\n",
              "            .progress-bar-interrupted, .progress-bar-interrupted::-webkit-progress-bar {\n",
              "                background: #F44336;\n",
              "            }\n",
              "        </style>\n",
              "      <progress value='99' class='' max='214' style='width:300px; height:20px; vertical-align: middle;'></progress>\n",
              "      46.26% [99/214 00:44<00:51 0.6062]\n",
              "    </div>\n",
              "    "
            ],
            "text/plain": [
              "<IPython.core.display.HTML object>"
            ]
          },
          "metadata": {
            "tags": []
          }
        },
        {
          "output_type": "stream",
          "text": [
            "LR Finder is complete, type {learner_name}.recorder.plot() to see the graph.\n",
            "Min numerical gradient: 2.75E-03\n",
            "Min loss divided by 10: 1.32E-03\n"
          ],
          "name": "stdout"
        },
        {
          "output_type": "display_data",
          "data": {
            "image/png": "[encoded data removed]",
            "text/plain": [
              "<Figure size 432x288 with 1 Axes>"
            ]
          },
          "metadata": {
            "tags": [],
            "needs_background": "light"
          }
        }
      ]
    },
    {
      "cell_type": "code",
      "metadata": {
        "id": "xBlZLndQJZlI",
        "colab_type": "code",
        "outputId": "1fd4f797-7258-453a-e51d-8ae765e92278",
        "colab": {
          "base_uri": "https://localhost:8080/",
          "height": 740
        }
      },
      "source": [
        "# train head\n",
        "learn.fit_one_cycle(10, max_lr=3e-3, pct_start=0.1, div_factor=10, final_div=30, wd=5e-3, moms=(0.9, 0.8),callbacks=[SaveModelCallback(learn, monitor='valid_loss', mode='min', name=model_name+'P0')])\n",
        "learn.recorder.plot_losses()"
      ],
      "execution_count": 0,
      "outputs": [
        {
          "output_type": "display_data",
          "data": {
            "text/html": [
              "<table border=\"1\" class=\"dataframe\">\n",
              "  <thead>\n",
              "    <tr style=\"text-align: left;\">\n",
              "      <th>epoch</th>\n",
              "      <th>train_loss</th>\n",
              "      <th>valid_loss</th>\n",
              "      <th>accuracy</th>\n",
              "      <th>time</th>\n",
              "    </tr>\n",
              "  </thead>\n",
              "  <tbody>\n",
              "    <tr>\n",
              "      <td>0</td>\n",
              "      <td>0.272220</td>\n",
              "      <td>0.817685</td>\n",
              "      <td>0.774796</td>\n",
              "      <td>01:42</td>\n",
              "    </tr>\n",
              "    <tr>\n",
              "      <td>1</td>\n",
              "      <td>0.260179</td>\n",
              "      <td>0.187829</td>\n",
              "      <td>0.936989</td>\n",
              "      <td>01:42</td>\n",
              "    </tr>\n",
              "    <tr>\n",
              "      <td>2</td>\n",
              "      <td>0.209988</td>\n",
              "      <td>0.191923</td>\n",
              "      <td>0.950992</td>\n",
              "      <td>01:42</td>\n",
              "    </tr>\n",
              "    <tr>\n",
              "      <td>3</td>\n",
              "      <td>0.176020</td>\n",
              "      <td>0.168881</td>\n",
              "      <td>0.936989</td>\n",
              "      <td>01:42</td>\n",
              "    </tr>\n",
              "    <tr>\n",
              "      <td>4</td>\n",
              "      <td>0.195144</td>\n",
              "      <td>0.146722</td>\n",
              "      <td>0.941657</td>\n",
              "      <td>01:42</td>\n",
              "    </tr>\n",
              "    <tr>\n",
              "      <td>5</td>\n",
              "      <td>0.153530</td>\n",
              "      <td>0.129006</td>\n",
              "      <td>0.949825</td>\n",
              "      <td>01:42</td>\n",
              "    </tr>\n",
              "    <tr>\n",
              "      <td>6</td>\n",
              "      <td>0.138817</td>\n",
              "      <td>0.122766</td>\n",
              "      <td>0.948658</td>\n",
              "      <td>01:42</td>\n",
              "    </tr>\n",
              "    <tr>\n",
              "      <td>7</td>\n",
              "      <td>0.107902</td>\n",
              "      <td>0.123728</td>\n",
              "      <td>0.954492</td>\n",
              "      <td>01:42</td>\n",
              "    </tr>\n",
              "    <tr>\n",
              "      <td>8</td>\n",
              "      <td>0.117949</td>\n",
              "      <td>0.115092</td>\n",
              "      <td>0.957993</td>\n",
              "      <td>01:42</td>\n",
              "    </tr>\n",
              "    <tr>\n",
              "      <td>9</td>\n",
              "      <td>0.127769</td>\n",
              "      <td>0.112970</td>\n",
              "      <td>0.959160</td>\n",
              "      <td>01:42</td>\n",
              "    </tr>\n",
              "  </tbody>\n",
              "</table>"
            ],
            "text/plain": [
              "<IPython.core.display.HTML object>"
            ]
          },
          "metadata": {
            "tags": []
          }
        },
        {
          "output_type": "stream",
          "text": [
            "Better model found at epoch 0 with valid_loss value: 0.8176845908164978.\n",
            "Better model found at epoch 1 with valid_loss value: 0.1878291517496109.\n",
            "Better model found at epoch 3 with valid_loss value: 0.16888068616390228.\n",
            "Better model found at epoch 4 with valid_loss value: 0.14672178030014038.\n",
            "Better model found at epoch 5 with valid_loss value: 0.12900550663471222.\n",
            "Better model found at epoch 6 with valid_loss value: 0.12276595085859299.\n",
            "Better model found at epoch 8 with valid_loss value: 0.11509191989898682.\n",
            "Better model found at epoch 9 with valid_loss value: 0.11296998709440231.\n"
          ],
          "name": "stdout"
        },
        {
          "output_type": "display_data",
          "data": {
            "image/png": "[encoded data removed]",
            "text/plain": [
              "<Figure size 432x288 with 1 Axes>"
            ]
          },
          "metadata": {
            "tags": [],
            "needs_background": "light"
          }
        }
      ]
    },
    {
      "cell_type": "code",
      "metadata": {
        "id": "RVj7y45kKcMt",
        "colab_type": "code",
        "outputId": "67d31d9f-b16e-4e35-86d4-75e996459e21",
        "colab": {
          "base_uri": "https://localhost:8080/",
          "height": 406
        }
      },
      "source": [
        "# unfreeze\n",
        "fix_seed(RANDOM_STATE)\n",
        "learn.load(model_name+'P0')\n",
        "learn.unfreeze()\n",
        "learn.lr_find(start_lr=slice(1e-6, 1e-5), end_lr=slice(1e-2, 1e-1), wd=1e-3)\n",
        "learn.recorder.plot(suggestion=True)"
      ],
      "execution_count": 0,
      "outputs": [
        {
          "output_type": "display_data",
          "data": {
            "text/html": [
              "\n",
              "    <div>\n",
              "        <style>\n",
              "            /* Turns off some styling */\n",
              "            progress {\n",
              "                /* gets rid of default border in Firefox and Opera. */\n",
              "                border: none;\n",
              "                /* Needs to be in here for Safari polyfill so background images work as expected. */\n",
              "                background-size: auto;\n",
              "            }\n",
              "            .progress-bar-interrupted, .progress-bar-interrupted::-webkit-progress-bar {\n",
              "                background: #F44336;\n",
              "            }\n",
              "        </style>\n",
              "      <progress value='0' class='' max='1' style='width:300px; height:20px; vertical-align: middle;'></progress>\n",
              "      0.00% [0/1 00:00<00:00]\n",
              "    </div>\n",
              "    \n",
              "<table border=\"1\" class=\"dataframe\">\n",
              "  <thead>\n",
              "    <tr style=\"text-align: left;\">\n",
              "      <th>epoch</th>\n",
              "      <th>train_loss</th>\n",
              "      <th>valid_loss</th>\n",
              "      <th>accuracy</th>\n",
              "      <th>time</th>\n",
              "    </tr>\n",
              "  </thead>\n",
              "  <tbody>\n",
              "  </tbody>\n",
              "</table><p>\n",
              "\n",
              "    <div>\n",
              "        <style>\n",
              "            /* Turns off some styling */\n",
              "            progress {\n",
              "                /* gets rid of default border in Firefox and Opera. */\n",
              "                border: none;\n",
              "                /* Needs to be in here for Safari polyfill so background images work as expected. */\n",
              "                background-size: auto;\n",
              "            }\n",
              "            .progress-bar-interrupted, .progress-bar-interrupted::-webkit-progress-bar {\n",
              "                background: #F44336;\n",
              "            }\n",
              "        </style>\n",
              "      <progress value='91' class='' max='214' style='width:300px; height:20px; vertical-align: middle;'></progress>\n",
              "      42.52% [91/214 00:58<01:19 0.3644]\n",
              "    </div>\n",
              "    "
            ],
            "text/plain": [
              "<IPython.core.display.HTML object>"
            ]
          },
          "metadata": {
            "tags": []
          }
        },
        {
          "output_type": "stream",
          "text": [
            "LR Finder is complete, type {learner_name}.recorder.plot() to see the graph.\n",
            "Min numerical gradient: 2.51E-05\n",
            "Min loss divided by 10: 2.75E-06\n"
          ],
          "name": "stdout"
        },
        {
          "output_type": "display_data",
          "data": {
            "image/png": "[encoded data removed]",
            "text/plain": [
              "<Figure size 432x288 with 1 Axes>"
            ]
          },
          "metadata": {
            "tags": [],
            "needs_background": "light"
          }
        }
      ]
    },
    {
      "cell_type": "code",
      "metadata": {
        "id": "J3GXqCwOKcW4",
        "colab_type": "code",
        "outputId": "eb7f3b3a-e33e-4281-a95a-ce7e13dcf670",
        "colab": {
          "base_uri": "https://localhost:8080/",
          "height": 901
        }
      },
      "source": [
        "# train all layers\n",
        "fix_seed(RANDOM_STATE)\n",
        "learn.load(model_name+'P0')\n",
        "learn.fit_one_cycle(10, max_lr=slice(1e-5, 1e-4), div_factor=50, final_div=100, wd=1e-3, moms=(0.9, 0.8),callbacks=[SaveModelCallback(learn, monitor='valid_loss', mode='min', name=model_name+'P1')])\n",
        "learn.recorder.plot_losses()\n",
        "learn.recorder.plot_lr(show_moms=True)"
      ],
      "execution_count": 0,
      "outputs": [
        {
          "output_type": "display_data",
          "data": {
            "text/html": [
              "<table border=\"1\" class=\"dataframe\">\n",
              "  <thead>\n",
              "    <tr style=\"text-align: left;\">\n",
              "      <th>epoch</th>\n",
              "      <th>train_loss</th>\n",
              "      <th>valid_loss</th>\n",
              "      <th>accuracy</th>\n",
              "      <th>time</th>\n",
              "    </tr>\n",
              "  </thead>\n",
              "  <tbody>\n",
              "    <tr>\n",
              "      <td>0</td>\n",
              "      <td>0.104091</td>\n",
              "      <td>0.112101</td>\n",
              "      <td>0.957993</td>\n",
              "      <td>02:26</td>\n",
              "    </tr>\n",
              "    <tr>\n",
              "      <td>1</td>\n",
              "      <td>0.097496</td>\n",
              "      <td>0.112956</td>\n",
              "      <td>0.956826</td>\n",
              "      <td>02:26</td>\n",
              "    </tr>\n",
              "    <tr>\n",
              "      <td>2</td>\n",
              "      <td>0.102292</td>\n",
              "      <td>0.114651</td>\n",
              "      <td>0.953326</td>\n",
              "      <td>02:26</td>\n",
              "    </tr>\n",
              "    <tr>\n",
              "      <td>3</td>\n",
              "      <td>0.102874</td>\n",
              "      <td>0.110066</td>\n",
              "      <td>0.957993</td>\n",
              "      <td>02:26</td>\n",
              "    </tr>\n",
              "    <tr>\n",
              "      <td>4</td>\n",
              "      <td>0.091655</td>\n",
              "      <td>0.113313</td>\n",
              "      <td>0.960327</td>\n",
              "      <td>02:26</td>\n",
              "    </tr>\n",
              "    <tr>\n",
              "      <td>5</td>\n",
              "      <td>0.083627</td>\n",
              "      <td>0.114973</td>\n",
              "      <td>0.961494</td>\n",
              "      <td>02:26</td>\n",
              "    </tr>\n",
              "    <tr>\n",
              "      <td>6</td>\n",
              "      <td>0.092674</td>\n",
              "      <td>0.117427</td>\n",
              "      <td>0.964994</td>\n",
              "      <td>02:26</td>\n",
              "    </tr>\n",
              "    <tr>\n",
              "      <td>7</td>\n",
              "      <td>0.081916</td>\n",
              "      <td>0.116365</td>\n",
              "      <td>0.964994</td>\n",
              "      <td>02:26</td>\n",
              "    </tr>\n",
              "    <tr>\n",
              "      <td>8</td>\n",
              "      <td>0.090430</td>\n",
              "      <td>0.113630</td>\n",
              "      <td>0.961494</td>\n",
              "      <td>02:26</td>\n",
              "    </tr>\n",
              "    <tr>\n",
              "      <td>9</td>\n",
              "      <td>0.089110</td>\n",
              "      <td>0.115103</td>\n",
              "      <td>0.961494</td>\n",
              "      <td>02:26</td>\n",
              "    </tr>\n",
              "  </tbody>\n",
              "</table>"
            ],
            "text/plain": [
              "<IPython.core.display.HTML object>"
            ]
          },
          "metadata": {
            "tags": []
          }
        },
        {
          "output_type": "stream",
          "text": [
            "Better model found at epoch 0 with valid_loss value: 0.11210125684738159.\n",
            "Better model found at epoch 3 with valid_loss value: 0.11006567627191544.\n"
          ],
          "name": "stdout"
        },
        {
          "output_type": "display_data",
          "data": {
            "image/png": "[encoded data removed]",
            "text/plain": [
              "<Figure size 432x288 with 1 Axes>"
            ]
          },
          "metadata": {
            "tags": [],
            "needs_background": "light"
          }
        },
        {
          "output_type": "display_data",
          "data": {
            "image/png": "[encoded data removed]",
            "text/plain": [
              "<Figure size 864x288 with 2 Axes>"
            ]
          },
          "metadata": {
            "tags": [],
            "needs_background": "light"
          }
        }
      ]
    }
  ]
}